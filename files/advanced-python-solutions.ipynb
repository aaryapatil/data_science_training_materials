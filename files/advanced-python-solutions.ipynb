{
 "cells": [
  {
   "cell_type": "markdown",
   "metadata": {
    "cell_id": "2b4c4688adc248439a293c4374215377",
    "deepnote_cell_type": "markdown"
   },
   "source": [
    "<small><i>This notebook was put together by Morgan Fouesneau for MPIA's Advanced Python workshop</i></small>"
   ]
  },
  {
   "cell_type": "markdown",
   "metadata": {
    "cell_id": "bd49732163154ac4b69c67f2ce650f44",
    "deepnote_cell_type": "markdown"
   },
   "source": [
    "### MPIA Foundational Workshops #6\n",
    "# Advanced Python\n",
    "## **Morgan Fouesneau & Iva Momcheva**\n",
    "*Max-Planck Institute for Astronomy*\n",
    "✉️ ds@mpia.de\n",
    "(Nov 2022)"
   ]
  },
  {
   "cell_type": "code",
   "execution_count": null,
   "metadata": {
    "cell_id": "ce4e9dcd4fc24e10995a42f59a5b48c6",
    "deepnote_cell_type": "code",
    "deepnote_to_be_reexecuted": false,
    "execution_millis": 25,
    "execution_start": 1667550566521,
    "source_hash": "a48bf053",
    "tags": []
   },
   "outputs": [],
   "source": [
    "%%file requirements.txt\n",
    "numpy\n",
    "matplotlib\n",
    "numba \n",
    "astropy"
   ]
  },
  {
   "cell_type": "code",
   "execution_count": null,
   "metadata": {
    "cell_id": "7f97863da73048be9e6708272c29dcb3",
    "deepnote_cell_type": "code",
    "deepnote_to_be_reexecuted": false,
    "execution_millis": 11054,
    "execution_start": 1667550568068,
    "source_hash": "4d3a5e64",
    "tags": []
   },
   "outputs": [],
   "source": [
    "!pip install -q pip --upgrade\n",
    "!pip install -q -r requirements.txt"
   ]
  },
  {
   "cell_type": "code",
   "execution_count": 1,
   "metadata": {
    "cell_id": "1b7d7098695c42d79b03d152a10eeaf5",
    "deepnote_cell_type": "code",
    "deepnote_to_be_reexecuted": false,
    "execution_millis": 3,
    "execution_start": 1667507956692,
    "source_hash": "5ac71c13"
   },
   "outputs": [],
   "source": [
    "# make sure pylab runs inline when using the notebook\n",
    "%matplotlib inline\n",
    "import numpy as np\n",
    "import pylab as plt\n",
    "\n",
    "light_minimal = {\n",
    "    'font.family': 'serif',\n",
    "    'font.size': 14,\n",
    "    \"axes.titlesize\": \"x-large\",\n",
    "    \"axes.labelsize\": \"large\",\n",
    "    'axes.edgecolor': '#666666',\n",
    "    \"xtick.direction\": \"out\",\n",
    "    \"ytick.direction\": \"out\",\n",
    "    \"xtick.major.size\": \"8\",\n",
    "    \"xtick.minor.size\": \"4\",\n",
    "    \"ytick.major.size\": \"8\",\n",
    "    \"ytick.minor.size\": \"4\",\n",
    "    'xtick.labelsize': 'small',\n",
    "    'ytick.labelsize': 'small',\n",
    "    'ytick.color': '#666666',\n",
    "    'xtick.color': '#666666',\n",
    "    'xtick.top': False,\n",
    "    'ytick.right': False,\n",
    "    'axes.spines.top': False,\n",
    "    'axes.spines.right': False,\n",
    "    'image.aspect': 'auto'\n",
    "}\n",
    "\n",
    "plt.style.use(light_minimal)"
   ]
  },
  {
   "cell_type": "markdown",
   "metadata": {
    "cell_id": "17ab300fb79442c6bb4a93fa6fd32e24",
    "deepnote_cell_type": "markdown"
   },
   "source": [
    "# Code typing in Python\n",
    "\n",
    "Python >= 3.5"
   ]
  },
  {
   "cell_type": "markdown",
   "metadata": {
    "cell_id": "374a1261ade24419886719c570d0e6eb",
    "deepnote_cell_type": "markdown"
   },
   "source": [
    "## Python is a __dynamically typed__  language\n",
    "\n",
    "- Variables have __implicit__ types\n",
    "- types can change with a simple assignment"
   ]
  },
  {
   "cell_type": "code",
   "execution_count": 2,
   "metadata": {
    "cell_id": "9a4076a2f5104ca0b3b1b62ca35e6f21",
    "deepnote_cell_type": "code",
    "deepnote_to_be_reexecuted": false,
    "execution_millis": 0,
    "execution_start": 1667508054497,
    "source_hash": "9f54d7da"
   },
   "outputs": [],
   "source": [
    "a = 5       # integer\n",
    "a = \"text\"  # string"
   ]
  },
  {
   "cell_type": "markdown",
   "metadata": {
    "cell_id": "b939476acbb14c7695f3987768707746",
    "deepnote_cell_type": "markdown",
    "tags": []
   },
   "source": [
    "- Python >= 3.5 concept of [type annotations](https://docs.python.org/3/library/typing.html)\n",
    "    - add hints about the expected type of a parameter"
   ]
  },
  {
   "cell_type": "code",
   "execution_count": 3,
   "metadata": {
    "cell_id": "3de9436a0167469bae6e92d47f073366",
    "deepnote_cell_type": "code",
    "deepnote_to_be_reexecuted": false,
    "execution_millis": 4,
    "execution_start": 1667508070234,
    "source_hash": "a17ce093"
   },
   "outputs": [],
   "source": [
    "a: int = 5\n",
    "b: str = \"text\""
   ]
  },
  {
   "cell_type": "markdown",
   "metadata": {
    "cell_id": "c52b4f7232264019a55834939fc34f5e",
    "deepnote_cell_type": "markdown",
    "tags": []
   },
   "source": [
    "## Typing Examples"
   ]
  },
  {
   "cell_type": "code",
   "execution_count": 4,
   "metadata": {
    "cell_id": "65730660602247d79eecb5f99172061b",
    "deepnote_cell_type": "code",
    "deepnote_to_be_reexecuted": false,
    "execution_millis": 0,
    "execution_start": 1667508151957,
    "source_hash": "75623730",
    "tags": []
   },
   "outputs": [],
   "source": [
    "def scale(scalar, vector):\n",
    "    return [scalar * num for num in vector]\n",
    "\n",
    "new_vector = scale(2.0, [1.0, -4.2, 5.4])"
   ]
  },
  {
   "cell_type": "code",
   "execution_count": 5,
   "metadata": {
    "cell_id": "2af11003197c409282b1516f9314250b",
    "deepnote_cell_type": "code",
    "deepnote_to_be_reexecuted": false,
    "execution_millis": 3,
    "execution_start": 1667508179401,
    "source_hash": "ada36620",
    "tags": []
   },
   "outputs": [],
   "source": [
    "Vector = list[float]\n",
    "\n",
    "def scale(scalar: float, vector: Vector) -> Vector:\n",
    "    return [scalar * num for num in vector]\n",
    "\n",
    "new_vector = scale(2.0, [1.0, -4.2, 5.4])"
   ]
  },
  {
   "cell_type": "markdown",
   "metadata": {
    "cell_id": "7d2715672a2546208fe1fabf85a53727",
    "deepnote_cell_type": "markdown",
    "tags": []
   },
   "source": [
    "ℹ️ Note how readable the second version becomes."
   ]
  },
  {
   "cell_type": "markdown",
   "metadata": {
    "cell_id": "7ee9d7f7e42f4520801fac5e80870916",
    "deepnote_cell_type": "markdown"
   },
   "source": [
    "## Function Annotations\n",
    "\n",
    "- The following adds __annotations__ to your function"
   ]
  },
  {
   "cell_type": "code",
   "execution_count": 6,
   "metadata": {
    "cell_id": "6dc9dceb02d44ccbaa889b9520e99a51",
    "deepnote_cell_type": "code",
    "deepnote_to_be_reexecuted": false,
    "execution_millis": 3,
    "execution_start": 1667508226437,
    "source_hash": "d258233"
   },
   "outputs": [
    {
     "data": {
      "text/plain": [
       "{'scalar': float, 'vector': list[float], 'return': list[float]}"
      ]
     },
     "execution_count": 6,
     "metadata": {},
     "output_type": "execute_result"
    }
   ],
   "source": [
    "Vector = list[float]\n",
    "\n",
    "def scale(scalar: float, vector: Vector) -> Vector:\n",
    "    return [scalar * num for num in vector]\n",
    "\n",
    "scale.__annotations__"
   ]
  },
  {
   "cell_type": "markdown",
   "metadata": {
    "cell_id": "9d5df445efad4ee39ef43f394ccc1f7b",
    "deepnote_cell_type": "markdown",
    "tags": []
   },
   "source": [
    "- One can use these to enforce variable types. (not the default)\n",
    "* Documentation is not \"redundant\" (bad practice example)\n",
    "    ```python\n",
    "    def func(a: IpAddress, b: List[Users], c: str) -> float: ...\n",
    "    ```"
   ]
  },
  {
   "cell_type": "markdown",
   "metadata": {
    "cell_id": "22ed175c764b4f1280b1d419302507ba",
    "deepnote_cell_type": "markdown",
    "tags": []
   },
   "source": [
    "## Variable Annotations"
   ]
  },
  {
   "cell_type": "code",
   "execution_count": 7,
   "metadata": {
    "cell_id": "fd887df242fd4c119cac059c34913b2f",
    "deepnote_cell_type": "code",
    "deepnote_to_be_reexecuted": false,
    "execution_millis": 564,
    "execution_start": 1667508313329,
    "source_hash": "4069a893"
   },
   "outputs": [
    {
     "data": {
      "text/plain": [
       "{'a': int, 'b': str}"
      ]
     },
     "execution_count": 7,
     "metadata": {},
     "output_type": "execute_result"
    }
   ],
   "source": [
    "a: int = 5\n",
    "b: str = \"text\"\n",
    "__annotations__"
   ]
  },
  {
   "cell_type": "markdown",
   "metadata": {
    "cell_id": "cfc9946be39f4821abae202ed02acd5e",
    "deepnote_cell_type": "markdown",
    "tags": []
   },
   "source": [
    "- One can use these to enforce variable types. (not the default)"
   ]
  },
  {
   "cell_type": "code",
   "execution_count": 8,
   "metadata": {
    "cell_id": "32b1af83a9f14ff5a5e058bf519e7d59",
    "deepnote_cell_type": "code",
    "deepnote_to_be_reexecuted": false,
    "execution_millis": 0,
    "execution_start": 1667508347800,
    "source_hash": "75803747"
   },
   "outputs": [],
   "source": [
    "a = \"text\"               # what happens?\n",
    "a: \"dummy quantity\" = 5  # Does it work? What could this mean?"
   ]
  },
  {
   "cell_type": "markdown",
   "metadata": {
    "cell_id": "244f20d0be9a4023b44aa359684f3337",
    "deepnote_cell_type": "markdown",
    "tags": []
   },
   "source": [
    "⚠️ __not making a statically typed language out of Python__"
   ]
  },
  {
   "cell_type": "markdown",
   "metadata": {
    "cell_id": "7154e66b45df45969ee6a7d9a8f6b3ab",
    "deepnote_cell_type": "markdown",
    "tags": []
   },
   "source": [
    "### How to *manually* check types\n",
    "\n",
    "```python\n",
    "# pseudo code\n",
    "func: Callable(args: Sequence[Any], kwargs: Dict[str, Any]) = ...\n",
    "sig = inspect.signature(func: Callable)\n",
    "for value, (name, pardef) in zip(args, sig.parameters.items()):\n",
    "    try:\n",
    "        valid = isinstance(value, pardef.annotation)\n",
    "    except GenericAnnotationTypeError:  # e.g. List[...], Sequence[...]\n",
    "        valid = isInstanceGenericType(value, pardef.annotation)  # complex function to write\n",
    "    except NoAnnotationError:  # ⚠️   \"NoAnnotationError\" does not exists\n",
    "        valid = True\n",
    "    else:\n",
    "        valid = False\n",
    "    if not valid:\n",
    "        raise RuntimeError(f\"TypeCheck {name:s}: got {value} not of type {pardef.annotation}.\")\n",
    "result = func(*args, **kwargs)\n",
    "if not isInstanceGenericType(result, sig.return_annotation):\n",
    "    raise RuntimeError(f\"TypeCheck returned value: got {value} not of type {sig.return_annotation}.\")\n",
    "```"
   ]
  },
  {
   "cell_type": "code",
   "execution_count": 9,
   "metadata": {
    "cell_id": "027cbff8fe4f4f4286940bc35f3f8932",
    "deepnote_cell_type": "code",
    "deepnote_to_be_reexecuted": false,
    "execution_millis": 6,
    "execution_start": 1667508427489,
    "source_hash": "be6838e2"
   },
   "outputs": [],
   "source": [
    "from typing import Any, Sequence, Callable\n",
    "from itertools import cycle\n",
    "import inspect\n",
    "\n",
    "Vector = list[float]\n",
    "\n",
    "def scale(scalar: float, vector: Vector) -> Vector:\n",
    "    return [scalar * num for num in vector]\n",
    "\n",
    "\n",
    "def AssertInstanceGenericType(name: str, value: Any, annotation: type) -> None:\n",
    "    if annotation == inspect._empty:  # empty annotation\n",
    "        return\n",
    "    try:\n",
    "        if not isinstance(value, annotation):\n",
    "            raise RuntimeError(f\"TypeCheck {name:s}: got {value} not of type {annotation}.\")\n",
    "    except TypeError:  # e.g. List[...], Sequence[...]\n",
    "        orig, what = annotation.__origin__, annotation.__args__\n",
    "        if not isinstance(value, orig):\n",
    "            raise RuntimeError(f\"TypeCheck {name:s}: got {value} not of type {annotation}.\")\n",
    "        for e, (subval, subw) in enumerate(zip(value, cycle(what))):\n",
    "            AssertInstanceGenericType(f\"{name:s}[{e:d}]\", subval, subw)\n",
    "\n",
    "def isinstanceGenericType(name: str, value: Any, annotation: type, verbose: bool = True) -> bool:\n",
    "    try:\n",
    "        AssertInstanceGenericType(name, value, annotation)\n",
    "        return True\n",
    "    except RuntimeError as err:\n",
    "        if verbose:\n",
    "            print(err)\n",
    "        return False\n",
    "\n",
    "def assert_types(func: Callable,\n",
    "                *args: Sequence[Any],\n",
    "                **kwargs: dict[str, Any]) -> Any:\n",
    "\n",
    "    sig = inspect.signature(func)\n",
    "    for value, (name, pardef) in zip(args, sig.parameters.items()):\n",
    "        AssertInstanceGenericType(name, value, pardef.annotation)\n",
    "\n",
    "    result = func(*args, **kwargs)\n",
    "    AssertInstanceGenericType(\"returned value\", result, sig.return_annotation)\n",
    "    return result"
   ]
  },
  {
   "cell_type": "code",
   "execution_count": 10,
   "metadata": {
    "cell_id": "923850ff727c40e8b2d7382a8239c26f",
    "deepnote_cell_type": "code",
    "deepnote_to_be_reexecuted": false,
    "execution_millis": 3,
    "execution_start": 1667508461377,
    "source_hash": "b9dd30e2",
    "tags": []
   },
   "outputs": [
    {
     "name": "stdout",
     "output_type": "stream",
     "text": [
      "TypeCheck dummy: got 2.0 not of type <class 'int'>.\n"
     ]
    },
    {
     "data": {
      "text/plain": [
       "False"
      ]
     },
     "execution_count": 10,
     "metadata": {},
     "output_type": "execute_result"
    }
   ],
   "source": [
    "isinstanceGenericType('dummy', 2.0, int)"
   ]
  },
  {
   "cell_type": "code",
   "execution_count": 11,
   "metadata": {
    "cell_id": "4ac0b42659c0487bb23f7e707f304544",
    "deepnote_cell_type": "code",
    "deepnote_to_be_reexecuted": false,
    "execution_millis": 798,
    "execution_start": 1667508471313,
    "source_hash": "2e2eb531",
    "tags": []
   },
   "outputs": [
    {
     "data": {
      "text/plain": [
       "True"
      ]
     },
     "execution_count": 11,
     "metadata": {},
     "output_type": "execute_result"
    }
   ],
   "source": [
    "isinstanceGenericType('dummy', 2, int)"
   ]
  },
  {
   "cell_type": "code",
   "execution_count": 12,
   "metadata": {
    "cell_id": "507346b7554e448098fcfa40bef08e09",
    "deepnote_cell_type": "code",
    "deepnote_to_be_reexecuted": false,
    "execution_millis": 253,
    "execution_start": 1667508482406,
    "source_hash": "63c8a05d",
    "tags": []
   },
   "outputs": [
    {
     "name": "stdout",
     "output_type": "stream",
     "text": [
      "TypeCheck dummy[1]: got 3.0 not of type <class 'int'>.\n"
     ]
    },
    {
     "data": {
      "text/plain": [
       "False"
      ]
     },
     "execution_count": 12,
     "metadata": {},
     "output_type": "execute_result"
    }
   ],
   "source": [
    "isinstanceGenericType('dummy', [2, 3.0], list[int])"
   ]
  },
  {
   "cell_type": "code",
   "execution_count": 13,
   "metadata": {
    "cell_id": "25ae8f38e7a049528388a5b18c306db2",
    "deepnote_cell_type": "code",
    "deepnote_to_be_reexecuted": false,
    "execution_millis": 4,
    "execution_start": 1667508493064,
    "source_hash": "1bce6c43",
    "tags": []
   },
   "outputs": [
    {
     "ename": "TypeError",
     "evalue": "unsupported operand type(s) for |: 'type' and 'type'",
     "output_type": "error",
     "traceback": [
      "\u001b[0;31m---------------------------------------------------------------------------\u001b[0m",
      "\u001b[0;31mTypeError\u001b[0m                                 Traceback (most recent call last)",
      "Input \u001b[0;32mIn [13]\u001b[0m, in \u001b[0;36m<cell line: 1>\u001b[0;34m()\u001b[0m\n\u001b[0;32m----> 1\u001b[0m isinstanceGenericType(\u001b[38;5;124m'\u001b[39m\u001b[38;5;124mdummy\u001b[39m\u001b[38;5;124m'\u001b[39m, [\u001b[38;5;241m2\u001b[39m, \u001b[38;5;241m3.0\u001b[39m], \u001b[38;5;28mlist\u001b[39m[\u001b[38;5;28;43mint\u001b[39;49m\u001b[43m \u001b[49m\u001b[38;5;241;43m|\u001b[39;49m\u001b[43m \u001b[49m\u001b[38;5;28;43mfloat\u001b[39;49m])\n",
      "\u001b[0;31mTypeError\u001b[0m: unsupported operand type(s) for |: 'type' and 'type'"
     ]
    }
   ],
   "source": [
    "isinstanceGenericType('dummy', [2, 3.0], list[int | float])"
   ]
  },
  {
   "cell_type": "code",
   "execution_count": 14,
   "metadata": {
    "cell_id": "b3008ce8ac9540dc9b1cec9c870ad8fb",
    "deepnote_cell_type": "code",
    "deepnote_to_be_reexecuted": false,
    "execution_millis": 3,
    "execution_start": 1667508504924,
    "source_hash": "bfb8f77d",
    "tags": []
   },
   "outputs": [
    {
     "data": {
      "text/plain": [
       "[2.0, -8.4, 10.8]"
      ]
     },
     "execution_count": 14,
     "metadata": {},
     "output_type": "execute_result"
    }
   ],
   "source": [
    "assert_types(scale, 2.0, [1.0, -4.2, 5.4])"
   ]
  },
  {
   "cell_type": "code",
   "execution_count": 15,
   "metadata": {
    "cell_id": "5200ad6a1e024f368bfa1cc74aa22f6a",
    "deepnote_cell_type": "code",
    "deepnote_to_be_reexecuted": false,
    "execution_millis": 83,
    "execution_start": 1667508513789,
    "source_hash": "aad93e09",
    "tags": []
   },
   "outputs": [
    {
     "ename": "RuntimeError",
     "evalue": "TypeCheck vector[2]: got 5 not of type <class 'float'>.",
     "output_type": "error",
     "traceback": [
      "\u001b[0;31m---------------------------------------------------------------------------\u001b[0m",
      "\u001b[0;31mTypeError\u001b[0m                                 Traceback (most recent call last)",
      "Input \u001b[0;32mIn [9]\u001b[0m, in \u001b[0;36mAssertInstanceGenericType\u001b[0;34m(name, value, annotation)\u001b[0m\n\u001b[1;32m     14\u001b[0m \u001b[38;5;28;01mtry\u001b[39;00m:\n\u001b[0;32m---> 15\u001b[0m     \u001b[38;5;28;01mif\u001b[39;00m \u001b[38;5;129;01mnot\u001b[39;00m \u001b[38;5;28;43misinstance\u001b[39;49m\u001b[43m(\u001b[49m\u001b[43mvalue\u001b[49m\u001b[43m,\u001b[49m\u001b[43m \u001b[49m\u001b[43mannotation\u001b[49m\u001b[43m)\u001b[49m:\n\u001b[1;32m     16\u001b[0m         \u001b[38;5;28;01mraise\u001b[39;00m \u001b[38;5;167;01mRuntimeError\u001b[39;00m(\u001b[38;5;124mf\u001b[39m\u001b[38;5;124m\"\u001b[39m\u001b[38;5;124mTypeCheck \u001b[39m\u001b[38;5;132;01m{\u001b[39;00mname\u001b[38;5;132;01m:\u001b[39;00m\u001b[38;5;124ms\u001b[39m\u001b[38;5;132;01m}\u001b[39;00m\u001b[38;5;124m: got \u001b[39m\u001b[38;5;132;01m{\u001b[39;00mvalue\u001b[38;5;132;01m}\u001b[39;00m\u001b[38;5;124m not of type \u001b[39m\u001b[38;5;132;01m{\u001b[39;00mannotation\u001b[38;5;132;01m}\u001b[39;00m\u001b[38;5;124m.\u001b[39m\u001b[38;5;124m\"\u001b[39m)\n",
      "\u001b[0;31mTypeError\u001b[0m: isinstance() argument 2 cannot be a parameterized generic",
      "\nDuring handling of the above exception, another exception occurred:\n",
      "\u001b[0;31mRuntimeError\u001b[0m                              Traceback (most recent call last)",
      "Input \u001b[0;32mIn [15]\u001b[0m, in \u001b[0;36m<cell line: 1>\u001b[0;34m()\u001b[0m\n\u001b[0;32m----> 1\u001b[0m \u001b[43massert_types\u001b[49m\u001b[43m(\u001b[49m\u001b[43mscale\u001b[49m\u001b[43m,\u001b[49m\u001b[43m \u001b[49m\u001b[38;5;241;43m2.0\u001b[39;49m\u001b[43m,\u001b[49m\u001b[43m \u001b[49m\u001b[43m[\u001b[49m\u001b[38;5;241;43m1.0\u001b[39;49m\u001b[43m,\u001b[49m\u001b[43m \u001b[49m\u001b[38;5;241;43m-\u001b[39;49m\u001b[38;5;241;43m4.2\u001b[39;49m\u001b[43m,\u001b[49m\u001b[43m \u001b[49m\u001b[38;5;241;43m5\u001b[39;49m\u001b[43m]\u001b[49m\u001b[43m)\u001b[49m\n",
      "Input \u001b[0;32mIn [9]\u001b[0m, in \u001b[0;36massert_types\u001b[0;34m(func, *args, **kwargs)\u001b[0m\n\u001b[1;32m     37\u001b[0m sig \u001b[38;5;241m=\u001b[39m inspect\u001b[38;5;241m.\u001b[39msignature(func)\n\u001b[1;32m     38\u001b[0m \u001b[38;5;28;01mfor\u001b[39;00m value, (name, pardef) \u001b[38;5;129;01min\u001b[39;00m \u001b[38;5;28mzip\u001b[39m(args, sig\u001b[38;5;241m.\u001b[39mparameters\u001b[38;5;241m.\u001b[39mitems()):\n\u001b[0;32m---> 39\u001b[0m     \u001b[43mAssertInstanceGenericType\u001b[49m\u001b[43m(\u001b[49m\u001b[43mname\u001b[49m\u001b[43m,\u001b[49m\u001b[43m \u001b[49m\u001b[43mvalue\u001b[49m\u001b[43m,\u001b[49m\u001b[43m \u001b[49m\u001b[43mpardef\u001b[49m\u001b[38;5;241;43m.\u001b[39;49m\u001b[43mannotation\u001b[49m\u001b[43m)\u001b[49m\n\u001b[1;32m     41\u001b[0m result \u001b[38;5;241m=\u001b[39m func(\u001b[38;5;241m*\u001b[39margs, \u001b[38;5;241m*\u001b[39m\u001b[38;5;241m*\u001b[39mkwargs)\n\u001b[1;32m     42\u001b[0m AssertInstanceGenericType(\u001b[38;5;124m\"\u001b[39m\u001b[38;5;124mreturned value\u001b[39m\u001b[38;5;124m\"\u001b[39m, result, sig\u001b[38;5;241m.\u001b[39mreturn_annotation)\n",
      "Input \u001b[0;32mIn [9]\u001b[0m, in \u001b[0;36mAssertInstanceGenericType\u001b[0;34m(name, value, annotation)\u001b[0m\n\u001b[1;32m     20\u001b[0m     \u001b[38;5;28;01mraise\u001b[39;00m \u001b[38;5;167;01mRuntimeError\u001b[39;00m(\u001b[38;5;124mf\u001b[39m\u001b[38;5;124m\"\u001b[39m\u001b[38;5;124mTypeCheck \u001b[39m\u001b[38;5;132;01m{\u001b[39;00mname\u001b[38;5;132;01m:\u001b[39;00m\u001b[38;5;124ms\u001b[39m\u001b[38;5;132;01m}\u001b[39;00m\u001b[38;5;124m: got \u001b[39m\u001b[38;5;132;01m{\u001b[39;00mvalue\u001b[38;5;132;01m}\u001b[39;00m\u001b[38;5;124m not of type \u001b[39m\u001b[38;5;132;01m{\u001b[39;00mannotation\u001b[38;5;132;01m}\u001b[39;00m\u001b[38;5;124m.\u001b[39m\u001b[38;5;124m\"\u001b[39m)\n\u001b[1;32m     21\u001b[0m \u001b[38;5;28;01mfor\u001b[39;00m e, (subval, subw) \u001b[38;5;129;01min\u001b[39;00m \u001b[38;5;28menumerate\u001b[39m(\u001b[38;5;28mzip\u001b[39m(value, cycle(what))):\n\u001b[0;32m---> 22\u001b[0m     \u001b[43mAssertInstanceGenericType\u001b[49m\u001b[43m(\u001b[49m\u001b[38;5;124;43mf\u001b[39;49m\u001b[38;5;124;43m\"\u001b[39;49m\u001b[38;5;132;43;01m{\u001b[39;49;00m\u001b[43mname\u001b[49m\u001b[38;5;132;43;01m:\u001b[39;49;00m\u001b[38;5;124;43ms\u001b[39;49m\u001b[38;5;132;43;01m}\u001b[39;49;00m\u001b[38;5;124;43m[\u001b[39;49m\u001b[38;5;132;43;01m{\u001b[39;49;00m\u001b[43me\u001b[49m\u001b[38;5;132;43;01m:\u001b[39;49;00m\u001b[38;5;124;43md\u001b[39;49m\u001b[38;5;132;43;01m}\u001b[39;49;00m\u001b[38;5;124;43m]\u001b[39;49m\u001b[38;5;124;43m\"\u001b[39;49m\u001b[43m,\u001b[49m\u001b[43m \u001b[49m\u001b[43msubval\u001b[49m\u001b[43m,\u001b[49m\u001b[43m \u001b[49m\u001b[43msubw\u001b[49m\u001b[43m)\u001b[49m\n",
      "Input \u001b[0;32mIn [9]\u001b[0m, in \u001b[0;36mAssertInstanceGenericType\u001b[0;34m(name, value, annotation)\u001b[0m\n\u001b[1;32m     14\u001b[0m \u001b[38;5;28;01mtry\u001b[39;00m:\n\u001b[1;32m     15\u001b[0m     \u001b[38;5;28;01mif\u001b[39;00m \u001b[38;5;129;01mnot\u001b[39;00m \u001b[38;5;28misinstance\u001b[39m(value, annotation):\n\u001b[0;32m---> 16\u001b[0m         \u001b[38;5;28;01mraise\u001b[39;00m \u001b[38;5;167;01mRuntimeError\u001b[39;00m(\u001b[38;5;124mf\u001b[39m\u001b[38;5;124m\"\u001b[39m\u001b[38;5;124mTypeCheck \u001b[39m\u001b[38;5;132;01m{\u001b[39;00mname\u001b[38;5;132;01m:\u001b[39;00m\u001b[38;5;124ms\u001b[39m\u001b[38;5;132;01m}\u001b[39;00m\u001b[38;5;124m: got \u001b[39m\u001b[38;5;132;01m{\u001b[39;00mvalue\u001b[38;5;132;01m}\u001b[39;00m\u001b[38;5;124m not of type \u001b[39m\u001b[38;5;132;01m{\u001b[39;00mannotation\u001b[38;5;132;01m}\u001b[39;00m\u001b[38;5;124m.\u001b[39m\u001b[38;5;124m\"\u001b[39m)\n\u001b[1;32m     17\u001b[0m \u001b[38;5;28;01mexcept\u001b[39;00m \u001b[38;5;167;01mTypeError\u001b[39;00m:  \u001b[38;5;66;03m# e.g. List[...], Sequence[...]\u001b[39;00m\n\u001b[1;32m     18\u001b[0m     orig, what \u001b[38;5;241m=\u001b[39m annotation\u001b[38;5;241m.\u001b[39m__origin__, annotation\u001b[38;5;241m.\u001b[39m__args__\n",
      "\u001b[0;31mRuntimeError\u001b[0m: TypeCheck vector[2]: got 5 not of type <class 'float'>."
     ]
    }
   ],
   "source": [
    "assert_types(scale, 2.0, [1.0, -4.2, 5])"
   ]
  },
  {
   "cell_type": "markdown",
   "metadata": {
    "cell_id": "b61e27f4f3d94a53b6f8197aa5e8f236",
    "deepnote_cell_type": "markdown",
    "tags": []
   },
   "source": [
    "### How to *enforce* types ?\n",
    "\n",
    "- manually: (⚠️ Not recommended)\n",
    "    - Rapidly complex to check all types and subtypes.\n",
    "    - Not optimized checks will lead to significant overhead.\n",
    "- Maybe not worth apart from debugging phases.\n",
    "\n",
    "\n",
    "### With CI/CD: Type check and find common bugs (:thumbsup:)\n",
    "\n",
    "- [mypy](https://mypy.readthedocs.io/en/stable/) is a static analyzer, or a lint-like tool.\n",
    "- others: [pyre](https://pyre-check.org/), [pytype](https://github.com/google/pytype),  [Enforce](https://github.com/RussBaz/enforce),[Pydantic](https://pypi.org/project/pytypes/)\n",
    "- keep an eye on [Mypyc](https://github.com/mypyc/mypyc) not yet ready for general use, but it can compile some type annotated Python code to C extensions."
   ]
  },
  {
   "cell_type": "markdown",
   "metadata": {
    "cell_id": "83bee85444d44f34a5a83cc6b4538c5e",
    "deepnote_cell_type": "markdown",
    "tags": []
   },
   "source": [
    "## Typing Pros & Cons...\n",
    "\n",
    "- __Why?__ Increasing code\n",
    "    - **quality** (for you to think about types)\n",
    "    - **readability** (standard documentation; allowing automated checks)\n",
    "    - improve IDEs and linters (as providing standard documentation)\n",
    "\n",
    "- __cons__\n",
    "    - rapidly cumbersome, not always with useful predictable types\n",
    "    - no standard to enforce types.\n",
    "    - introduce a slight penalty in startup time.\n",
    "    - Loosing Python's flexibility"
   ]
  },
  {
   "cell_type": "markdown",
   "metadata": {
    "cell_id": "5bf905e72d1046aa828717c26e165fb3",
    "deepnote_cell_type": "markdown",
    "tags": []
   },
   "source": [
    "# Principles of OOP in Python\n",
    "\n",
    "### Object Oriented Programming\n",
    "\n",
    "## What is \"object\"?"
   ]
  },
  {
   "cell_type": "markdown",
   "metadata": {
    "cell_id": "f05336817f8d4985a45844b9cd569d18",
    "deepnote_cell_type": "markdown",
    "tags": []
   },
   "source": [
    "<style>\n",
    "div.fourcols {\n",
    "  margin-top: 35px;\n",
    "  column-count: 4;\n",
    "}\n",
    "div.fourcols p:first-child,\n",
    "div.fourcols h1:first-child,\n",
    "div.fourcols h2:first-child,\n",
    "div.fourcols ul:first-child,\n",
    "div.fourcols ul li:first-child,\n",
    "div.fourcols ul li p:first-child {\n",
    "  margin-top: 0 !important;\n",
    "}\n",
    "div.fourcols p.break {\n",
    "  break-before: column;\n",
    "  margin-top: 0;\n",
    "}\n",
    "</style>\n",
    "\n",
    "<div class=\"fourcols\" style=\"align-text: center;\">\n",
    "\n",
    "![h:200](https://thumbs.dreamstime.com/b/light-bulb-brain-idea-hand-drawn-white-background-eps-54141958.jpg)\n",
    "A concept\n",
    "\n",
    "<p class=\"break\"></p>\n",
    "\n",
    "![h:200](https://upload.wikimedia.org/wikipedia/commons/e/ec/Regular_triangle.svg)\n",
    "an \"object\"\n",
    "_aka triangle_\n",
    "\n",
    "<p class=\"break\"></p>\n",
    "\n",
    "__attributes__ (properties)\n",
    "- 3 edges\n",
    "- edgecolor\n",
    "- facecolor\n",
    "...\n",
    "\n",
    "<p class=\"break\"></p>\n",
    "\n",
    "__methods__ (functions)\n",
    "- get_edges\n",
    "- set_color\n",
    "- move_to\n",
    "...\n",
    "</div>\n",
    "\n",
    "$\\displaystyle{\\textrm{concept described by class Triangle} = \\underbrace{\\textrm{attributes + methods}}_{\\textrm{encapsulation}}}$"
   ]
  },
  {
   "cell_type": "markdown",
   "metadata": {
    "cell_id": "51cc24d6e21f426c90c8bfcc4bf50d2b",
    "deepnote_cell_type": "markdown",
    "tags": []
   },
   "source": [
    "## Important Vocabulary: _object_ vs. _class_\n",
    "\n",
    "* a **class** is a definition, aka _blueprint_ or _template_ from which objects are created\n",
    "* an **object** is an entity __instanciated__ from a class.\n",
    "* example:"
   ]
  },
  {
   "cell_type": "code",
   "execution_count": 16,
   "metadata": {
    "cell_id": "a84e4d518e8a4480a2877444d6b72ae0",
    "deepnote_cell_type": "code",
    "deepnote_to_be_reexecuted": false,
    "execution_millis": 468,
    "execution_start": 1667508701638,
    "source_hash": "6fd98c66",
    "tags": []
   },
   "outputs": [
    {
     "data": {
      "text/plain": [
       "[<matplotlib.lines.Line2D at 0x11b08e9d0>]"
      ]
     },
     "execution_count": 16,
     "metadata": {},
     "output_type": "execute_result"
    },
    {
     "data": {
      "image/png": "[encoded data removed]",
      "text/plain": [
       "<Figure size 432x288 with 1 Axes>"
      ]
     },
     "metadata": {
      "needs_background": "light"
     },
     "output_type": "display_data"
    }
   ],
   "source": [
    "import pylab as plt\n",
    "r = plt.plot(range(10))\n",
    "r"
   ]
  },
  {
   "cell_type": "markdown",
   "metadata": {
    "cell_id": "e8532d2de1ac48b49215d2a050c0d1b7",
    "deepnote_cell_type": "markdown",
    "tags": []
   },
   "source": [
    "`r` contains objects of class `Line2D` (or `matplotlib.lines.Line2D`)"
   ]
  },
  {
   "cell_type": "markdown",
   "metadata": {
    "cell_id": "65c10214188543be8197f288d3506084",
    "deepnote_cell_type": "markdown",
    "tags": []
   },
   "source": [
    "## In python, *everything* is an object\n",
    "\n",
    "* `s` is an object from class `str`"
   ]
  },
  {
   "cell_type": "code",
   "execution_count": 17,
   "metadata": {
    "cell_id": "768f431820784309bd87a1bce2947c59",
    "deepnote_cell_type": "code",
    "deepnote_to_be_reexecuted": false,
    "execution_millis": 1,
    "execution_start": 1667508745449,
    "source_hash": "9ccd4100",
    "tags": []
   },
   "outputs": [
    {
     "name": "stdout",
     "output_type": "stream",
     "text": [
      "SOME TEXT\n"
     ]
    }
   ],
   "source": [
    "s = \"some text\"\n",
    "s1 = s.strip()  # remove leading/trailing spaces\n",
    "su = s1.upper() # make uppercase\n",
    "print(su)"
   ]
  },
  {
   "cell_type": "markdown",
   "metadata": {
    "cell_id": "ff6356751d8f47a5a8e1405782972163",
    "deepnote_cell_type": "markdown"
   },
   "source": [
    "* __object\\<dot\\>method()__\n",
    "* modules are objects too! (class module)\n",
    "    ```python\n",
    "    import numpy\n",
    "    d = numpy.random.normal(0, 1, 100)\n",
    "    ```\n",
    "* as well as functions, code, even the running environment."
   ]
  },
  {
   "cell_type": "markdown",
   "metadata": {
    "cell_id": "ef67f3b34fa64dc1bebf567054ee2eb5",
    "deepnote_cell_type": "markdown",
    "tags": []
   },
   "source": [
    "## OOP example with Matplotlib"
   ]
  },
  {
   "cell_type": "code",
   "execution_count": 18,
   "metadata": {
    "cell_id": "58ba606a4e1c4987b4f1d29b041a7c56",
    "deepnote_cell_type": "code",
    "deepnote_to_be_reexecuted": false,
    "execution_millis": 549,
    "execution_start": 1667508826847,
    "source_hash": "9e641cec"
   },
   "outputs": [
    {
     "data": {
      "text/plain": [
       "[[<matplotlib.lines.Line2D at 0x11bb8fc70>],\n",
       " Text(0.5, 0, 'measured'),\n",
       " Text(0, 0.5, 'calculated'),\n",
       " Text(0.5, 1.0, 'Measured vs. Calculated'),\n",
       " None]"
      ]
     },
     "execution_count": 18,
     "metadata": {},
     "output_type": "execute_result"
    },
    {
     "data": {
      "image/png": "[encoded data removed]",
      "text/plain": [
       "<Figure size 432x288 with 1 Axes>"
      ]
     },
     "metadata": {
      "needs_background": "light"
     },
     "output_type": "display_data"
    }
   ],
   "source": [
    "import pylab as plt\n",
    "r = []\n",
    "r.append( plt.plot(range(10)) )\n",
    "r.append( plt.xlabel('measured') )\n",
    "r.append( plt.ylabel('calculated') )\n",
    "r.append( plt.title('Measured vs. Calculated') )\n",
    "r.append( plt.grid(True) )\n",
    "r"
   ]
  },
  {
   "cell_type": "code",
   "execution_count": 19,
   "metadata": {
    "cell_id": "2008977b0d1347d9aacef1fb6b9c59c1",
    "deepnote_cell_type": "code",
    "deepnote_to_be_reexecuted": false,
    "execution_millis": 310,
    "execution_start": 1667508980933,
    "source_hash": "7d2a20a5",
    "tags": []
   },
   "outputs": [
    {
     "data": {
      "image/png": "[encoded data removed]",
      "text/plain": [
       "<Figure size 432x288 with 1 Axes>"
      ]
     },
     "metadata": {
      "needs_background": "light"
     },
     "output_type": "display_data"
    }
   ],
   "source": [
    "plt.plot(range(10))\n",
    "plt.xlabel('measured')\n",
    "plt.ylabel('calculated')\n",
    "plt.title('Measured vs. Calculated')\n",
    "plt.grid(True)\n",
    "ax = plt.gca()       # gca == get current axis\n",
    "line = ax.lines[0]\n",
    "line.set_marker('o')\n",
    "plt.setp(line, color='g');   # set properties"
   ]
  },
  {
   "cell_type": "markdown",
   "metadata": {
    "cell_id": "56b33d8a609f4ba487e8dfb4877a64e2",
    "deepnote_cell_type": "markdown"
   },
   "source": [
    "#### Objects allows to make nice figures with ease\n",
    "\n",
    "but\n",
    "\n",
    "### What about science?"
   ]
  },
  {
   "cell_type": "markdown",
   "metadata": {
    "cell_id": "3e3f7168c9334fc79f4ab91e34983272",
    "deepnote_cell_type": "markdown",
    "tags": []
   },
   "source": [
    "## How do we define our own classes / objects?\n",
    "\n",
    "## Let's make a class \"Vector\"\n",
    "\n",
    "__Class Vector__:\n",
    "- __attrs__:\n",
    "    x, y, z\n",
    "- __Methods__:\n",
    "    addition, scalar product, projection"
   ]
  },
  {
   "cell_type": "code",
   "execution_count": 20,
   "metadata": {
    "cell_id": "0e5d73bb06cc4911bd0274ed6daa46bc",
    "deepnote_cell_type": "code"
   },
   "outputs": [],
   "source": [
    "class Vector(object):\n",
    "    def __init__(self):\n",
    "        pass"
   ]
  },
  {
   "cell_type": "markdown",
   "metadata": {
    "cell_id": "8b3fb1743ea448fbb8dcae12867d60d4",
    "deepnote_cell_type": "markdown"
   },
   "source": [
    "When a class defines an `__init__()` method, class instantiation automatically invokes `__init__()` for the newly-created class instance. So in this example, a new, initialized instance can be obtained by:"
   ]
  },
  {
   "cell_type": "markdown",
   "metadata": {
    "cell_id": "32a1fda65ec646778b125d3f0b63105e",
    "deepnote_cell_type": "markdown"
   },
   "source": [
    "**Note**: Often, the first argument of a method is called `self`. \n",
    "This is nothing more than a convention: the name self has absolutely no special meaning to Python. \n",
    "    \n",
    "Note, however, that by not following the convention your code may be less readable to other Python programmers, and it is also conceivable that a class browser program might be written that relies upon such a convention."
   ]
  },
  {
   "cell_type": "code",
   "execution_count": 21,
   "metadata": {
    "cell_id": "d693794a16a04be89582aafb990f5866",
    "deepnote_cell_type": "code",
    "deepnote_to_be_reexecuted": false,
    "execution_millis": 3,
    "execution_start": 1667509163027,
    "source_hash": "25b38974"
   },
   "outputs": [],
   "source": [
    "class Vector:\n",
    "    def __init__(self, x, y, z):\n",
    "        \"\"\" Constructor \"\"\"\n",
    "        self.x, self.y, self.z = x, y, z\n",
    "    def sum(self, other):\n",
    "        \"\"\" add 2 vectors \"\"\"\n",
    "        return Vector(self.x + other.x,\n",
    "                      self.y + other.y,\n",
    "                      self.z + other.z)\n",
    "    def scalar_prod(self, other):\n",
    "        \"\"\" product of 2 vectors \"\"\"\n",
    "        return (self.x * other.x +\n",
    "                self.y * other.y +\n",
    "                self.z * other.z)"
   ]
  },
  {
   "cell_type": "code",
   "execution_count": 22,
   "metadata": {
    "cell_id": "0d60ea1612334ccba620a044799e51ac",
    "deepnote_cell_type": "code",
    "deepnote_to_be_reexecuted": false,
    "execution_millis": 206,
    "execution_start": 1667509239238,
    "source_hash": "573433eb",
    "tags": []
   },
   "outputs": [
    {
     "name": "stdout",
     "output_type": "stream",
     "text": [
      "a . b =  0\n",
      "<__main__.Vector object at 0x11ba13eb0>\n"
     ]
    }
   ],
   "source": [
    "a = Vector(1,0,0)\n",
    "b = Vector(0,1,0)\n",
    "print(\"a . b = \", a.scalar_prod(b))\n",
    "print(a.sum(b)) #???"
   ]
  },
  {
   "cell_type": "markdown",
   "metadata": {
    "cell_id": "f2df6df08ddf4c88b776bc49ec2657e7",
    "deepnote_cell_type": "markdown",
    "tags": []
   },
   "source": [
    "__What's wrong with `print`?__\n",
    "\n",
    "* Print is equivalent to\n",
    "    `str(a)` or `a.__str__()`\n",
    "* we need to define `__str__()`"
   ]
  },
  {
   "cell_type": "code",
   "execution_count": 25,
   "metadata": {
    "cell_id": "4675c8716d2a42c19f22e9b85a0f9d30",
    "deepnote_cell_type": "code",
    "deepnote_to_be_reexecuted": false,
    "execution_millis": 4,
    "execution_start": 1667509215476,
    "source_hash": "9b5ba00e"
   },
   "outputs": [],
   "source": [
    "class Vector:\n",
    "    def __init__(self, x, y, z):\n",
    "        \"\"\" Constructor \"\"\"\n",
    "        self.x, self.y, self.z = x, y, z\n",
    "    def sum(self, other):\n",
    "        \"\"\" add 2 vectors \"\"\"\n",
    "        return Vector(self.x + other.x,\n",
    "                      self.y + other.y,\n",
    "                      self.z + other.z)\n",
    "    def scalar_prod(self, other):\n",
    "        \"\"\" product of 2 vectors \"\"\"\n",
    "        return (self.x * other.x +\n",
    "                self.y * other.y +\n",
    "                self.z * other.z)\n",
    "    def __str__(self):\n",
    "        \"\"\" str representation \"\"\"\n",
    "        return \"Vector({s.x},{s.y},{s.z})\".format(s=self)"
   ]
  },
  {
   "cell_type": "code",
   "execution_count": 26,
   "metadata": {
    "cell_id": "95f9a1faf25a4f0ea76da2caf4c758f1",
    "deepnote_cell_type": "code",
    "deepnote_to_be_reexecuted": false,
    "execution_millis": 0,
    "execution_start": 1667509246241,
    "source_hash": "507d48ee",
    "tags": []
   },
   "outputs": [
    {
     "name": "stdout",
     "output_type": "stream",
     "text": [
      "a . b =  0\n",
      "Vector(1,1,0)\n"
     ]
    }
   ],
   "source": [
    "a = Vector(1,0,0)\n",
    "b = Vector(0,1,0)\n",
    "print(\"a . b = \", a.scalar_prod(b))\n",
    "print(a.sum(b)) #???"
   ]
  },
  {
   "cell_type": "markdown",
   "metadata": {
    "cell_id": "4857017240f74ddca6ea0f6ce92f19f8",
    "deepnote_cell_type": "markdown"
   },
   "source": [
    "`object.__repr__(self)`\n",
    "\n",
    "Called by the `repr()` built-in function and by string conversions (reverse quotes) to compute the \"official\" string representation of an object. \n",
    "\n",
    "`object.__str__(self)`\n",
    "\n",
    "Called by the `str()` built-in function and by the print statement to compute the \"informal\" string representation of an object. \n",
    "\n",
    "\n",
    "http://docs.python.org/2/reference/datamodel.html"
   ]
  },
  {
   "cell_type": "markdown",
   "metadata": {
    "cell_id": "f8e25def1cfc412a997bdad3547e33a1",
    "deepnote_cell_type": "markdown"
   },
   "source": [
    "What about checking that $x^2 + y^2 + 2\\cdot x \\cdot y = (x + y) ^ 2$"
   ]
  },
  {
   "cell_type": "code",
   "execution_count": 27,
   "metadata": {
    "cell_id": "418a5394f9264d7aacc4670813fbf345",
    "deepnote_cell_type": "code",
    "deepnote_to_be_reexecuted": false,
    "execution_millis": 1,
    "execution_start": 1667509612269,
    "source_hash": "487b40d8"
   },
   "outputs": [
    {
     "data": {
      "text/plain": [
       "True"
      ]
     },
     "execution_count": 27,
     "metadata": {},
     "output_type": "execute_result"
    }
   ],
   "source": [
    "x = Vector(1, 0, 0)\n",
    "y = Vector(0, 1, 0)\n",
    "z = Vector(0, 0, 1)\n",
    "\n",
    "# x.scalar_prod(x).sum(y.scalar_prod(y))\n",
    "x.scalar_prod(x) + y.scalar_prod(y) + 2 * x.scalar_prod(y) == x.sum(y).scalar_prod(x.sum(y))"
   ]
  },
  {
   "cell_type": "markdown",
   "metadata": {
    "cell_id": "70a1fa7eed644c69881662afa5619cba",
    "deepnote_cell_type": "markdown",
    "tags": []
   },
   "source": [
    "## Overloading operators\n",
    "\n",
    "- How would you implement $a^2 + b^2$?\n",
    "    - ```python\n",
    "        a.scalar_prod(a).sum(b.scalar_prod(b))\n",
    "        ```\n",
    "    - wouldn't be better to use `+` and `*` operators  ??\n",
    "\n",
    "* Special methods such as `__str__`\n",
    "    `__add__`, `__sub__`, `__mul__`, `__matmul__`, `__div__`,  `__pow__`, ... __and many others__\n",
    "    see [python datamodel](http://docs.python.org/reference/datamodel.html)"
   ]
  },
  {
   "cell_type": "markdown",
   "metadata": {
    "cell_id": "55fc4e6d1b3a4bc090774bc02595b4dc",
    "deepnote_cell_type": "markdown",
    "tags": []
   },
   "source": [
    "## Exercise: Complete the `Vector` class\n",
    "\n",
    "- manage a string representation\n",
    "- handle common operators `+`, `–`\n",
    "- Implement a scalar product solution based on `*`\n",
    "- Implement vector product based on `@`"
   ]
  },
  {
   "cell_type": "code",
   "execution_count": null,
   "metadata": {
    "cell_id": "0aa8243b43d84125b5097fab2ca39e38",
    "deepnote_cell_type": "code",
    "deepnote_to_be_reexecuted": false,
    "execution_millis": 1,
    "execution_start": 1667509688993,
    "source_hash": "a725c6f6"
   },
   "outputs": [],
   "source": [
    "# x ** 2 + y ** 2 + 2 * x * y == (x + y) ** 2"
   ]
  },
  {
   "cell_type": "code",
   "execution_count": 41,
   "metadata": {
    "cell_id": "cb941aef321540acae298f0aa49e32bb",
    "deepnote_cell_type": "code"
   },
   "outputs": [],
   "source": [
    "class Vector(object):\n",
    "    def __init__(self, x, y, z):\n",
    "        self.x, self.y, self.z = x, y, z\n",
    "    def __repr__(self):\n",
    "        # String repr, called when >>> Vector([1,2,3]) <CR>\n",
    "        return self.__str__() + \", \" + object.__repr__(self)\n",
    "    def __str__(self):\n",
    "        \"\"\" str representation \"\"\"\n",
    "        return \"Vector({s.x},{s.y},{s.z})\".format(s=self)\n",
    "    def __add__(self, p):\n",
    "        if isinstance(p, Vector):\t# if p Vector, sum of p1*p2\n",
    "            return Vector(self.x + p.x, self.y + p.y, self.z + p.z)\n",
    "        return Vector(self.x + p, self.y + p, self.z + p)\n",
    "    def __mul__(self, p):\n",
    "        if isinstance(p, Vector):\t# scalar product p1*p2\n",
    "            return self.x * p.x + self.y * p.y + self.z * p.z\n",
    "        return Vector(self.x * p, self.y * p, self.z * p)\n",
    "    def __matmul__(self, p):\n",
    "        \"\"\" self @ p as vector product \"\"\"\n",
    "        if not isinstance(p, Vector):\n",
    "            raise RuntimeError(\"second argument is not a Vector\")\n",
    "        x = self.y * p.z - self.z * p.y\n",
    "        y = self.z * p.x - self.x * p.z\n",
    "        z = self.x * p.y - self.y * p.x\n",
    "        return Vector(x, y, z)\n",
    "    def __pow__(self, p):\n",
    "        return sum([self.x ** p, self.y ** p, self.z ** p])"
   ]
  },
  {
   "cell_type": "code",
   "execution_count": 42,
   "metadata": {
    "cell_id": "5402d1cac36145a89ed0be5b15ab0b55",
    "deepnote_cell_type": "code"
   },
   "outputs": [
    {
     "name": "stdout",
     "output_type": "stream",
     "text": [
      "x.y =  0\n",
      "Vector(1,0,0)\n"
     ]
    },
    {
     "data": {
      "text/plain": [
       "True"
      ]
     },
     "execution_count": 42,
     "metadata": {},
     "output_type": "execute_result"
    }
   ],
   "source": [
    "x = Vector(1, 0, 0)\n",
    "y = Vector(0, 1, 0)\n",
    "z = Vector(0, 0, 1)\n",
    "\n",
    "xy = x * y\n",
    "print(\"x.y = \", xy)\n",
    "print(x)\n",
    "x * x + y * y + x * y * 2 == (x + y) ** 2"
   ]
  },
  {
   "cell_type": "markdown",
   "metadata": {
    "cell_id": "796c51162ebd41a39b1e0802c85fe051",
    "deepnote_cell_type": "markdown"
   },
   "source": [
    "### Bonus exercise\n",
    "\n",
    "Generalize the class vector and all operations to N-dimensions\n",
    "(tip: you can use numpy arrays)\n"
   ]
  },
  {
   "cell_type": "code",
   "execution_count": 43,
   "metadata": {
    "cell_id": "42b49c7af3514480831be484700b4df4",
    "deepnote_cell_type": "code"
   },
   "outputs": [],
   "source": [
    "import numpy as np\n",
    "\n",
    "class Vector(object):\n",
    "    def __init__(self, x):\n",
    "        self.x = np.atleast_1d(x)\n",
    "    def __repr__(self):\n",
    "        # String repr, called when >>> Vector([1,2,3]) <CR>\n",
    "        return self.__str__() + \", \" + object.__repr__(self)\n",
    "    def __str__(self):\n",
    "        \"\"\" str representation \"\"\"\n",
    "        return \"Vector({s.x})\".format(s=self)\n",
    "    def __add__(self, p):\n",
    "        if isinstance(p, Vector):\t# if p Vector, sum of p1*p2\n",
    "            return Vector(self.x + p.x)\n",
    "        return Vector(self.x + p)\n",
    "    def __mul__(self, p):\n",
    "        if isinstance(p, Vector):\t# scalar product p1*p2\n",
    "            return np.sum(self.x * p.x)\n",
    "        return Vector(self.x * p)\n",
    "    def __matmul__(self, p):\n",
    "        \"\"\" self @ p as vector product \"\"\"\n",
    "        if not isinstance(p, Vector):\n",
    "            raise RuntimeError(\"second argument is not a Vector\")\n",
    "        return Vector(x @ p.x)\n",
    "    def __pow__(self, p):\n",
    "        return sum(self.x ** p)"
   ]
  },
  {
   "cell_type": "code",
   "execution_count": 45,
   "metadata": {},
   "outputs": [
    {
     "name": "stdout",
     "output_type": "stream",
     "text": [
      "x.y =  0\n",
      "Vector([1 0 0])\n"
     ]
    },
    {
     "data": {
      "text/plain": [
       "True"
      ]
     },
     "execution_count": 45,
     "metadata": {},
     "output_type": "execute_result"
    }
   ],
   "source": [
    "x = Vector([1, 0, 0])\n",
    "y = Vector([0, 1, 0])\n",
    "z = Vector([0, 0, 1])\n",
    "\n",
    "xy = x * y\n",
    "print(\"x.y = \", xy)\n",
    "print(x)\n",
    "x * x + y * y + x * y * 2 == (x + y) ** 2"
   ]
  },
  {
   "cell_type": "markdown",
   "metadata": {
    "cell_id": "c3145530d5974c66977a1400535ceacd",
    "deepnote_cell_type": "markdown",
    "tags": []
   },
   "source": [
    "## Functions are objects too! they implement `__call__`\n",
    "\n",
    "- __exercise__: Create a \"function\" `interp` of two sequences `x`, `y` that\n",
    "    - keep _in mind_ the input data\n",
    "    - and when called with a sequence `xn`, interpolates the data `yn = y(xn)`\n",
    "\n",
    "ℹ️ There are two approaches possible (using a class or only functions)\n",
    "💡 Don't code the interpolation, use `np.interp` instead."
   ]
  },
  {
   "cell_type": "code",
   "execution_count": 47,
   "metadata": {
    "cell_id": "374051f94eb44e1fadb52a8fca3c71a6",
    "deepnote_cell_type": "code",
    "tags": []
   },
   "outputs": [],
   "source": [
    "import numpy as np\n",
    "import pylab as plt\n",
    "\n",
    "class Interp:\n",
    "    def __init__(self, x, y):\n",
    "        self.x, self.y = x, y\n",
    "    def __call__(self, xn):\n",
    "        return np.interp(xn, self.x, self.y)\n",
    "\n",
    "def interpfn(x, y):\n",
    "    def f(xn):\n",
    "        return np.interp(xn, x, y)\n",
    "    return f"
   ]
  },
  {
   "cell_type": "code",
   "execution_count": 48,
   "metadata": {
    "cell_id": "2a441d0715f74281b57e3270b56d9a73",
    "deepnote_cell_type": "code",
    "deepnote_to_be_reexecuted": false,
    "execution_millis": 2,
    "execution_start": 1667509832857,
    "source_hash": "24fcb435",
    "tags": []
   },
   "outputs": [
    {
     "data": {
      "text/plain": [
       "[<matplotlib.lines.Line2D at 0x11bca3910>]"
      ]
     },
     "execution_count": 48,
     "metadata": {},
     "output_type": "execute_result"
    },
    {
     "data": {
      "image/png": "[encoded data removed]",
      "text/plain": [
       "<Figure size 432x288 with 1 Axes>"
      ]
     },
     "metadata": {
      "needs_background": "light"
     },
     "output_type": "display_data"
    }
   ],
   "source": [
    "import numpy as np\n",
    "import pylab as plt\n",
    "x = np.arange(10)\n",
    "y = np.hstack([x[: 5] ** 2, 25 - 5 * x[5:]])\n",
    "interp = Interp(x, y)\n",
    "xn = np.linspace(0, 10, 20)\n",
    "plt.plot(x, y, 'o-', lw=2)\n",
    "plt.plot(xn, interp(xn), '.-')"
   ]
  },
  {
   "cell_type": "markdown",
   "metadata": {
    "cell_id": "c7669ee4c251453b9d092a433cbd005d",
    "deepnote_cell_type": "markdown",
    "tags": []
   },
   "source": [
    "## When to use classes or not?\n",
    "\n",
    "[Zen of python](https://peps.python.org/pep-0020/)\n",
    "\n",
    "1. Classes are useful tools.\n",
    "2. Simple > complex > complicated.\n",
    "3. Practicality beats purity.\n",
    "4. Do not reinvent the wheel every time.\n",
    "   When tools you already work: use & adapt them.\n",
    "5. Readability counts!\n",
    "\n",
    "[Stop writing classes](https://www.youtube.com/watch?v=o9pEzgHorH0) by Jack Diederich (30 min video)\n",
    "\n",
    "![bg right:30% fit](https://franzcalvo.files.wordpress.com/2016/01/001f9-zen.png?w=439&zoom=2)"
   ]
  },
  {
   "cell_type": "markdown",
   "metadata": {
    "cell_id": "5081104bf03e474ba6c67c2a06f6119a",
    "deepnote_cell_type": "markdown",
    "tags": []
   },
   "source": [
    "## Exercise: Coding the an IMF \"package\"\n",
    "\n",
    "All mass functions share __common__ properties\n",
    "- $dN/dM$,\n",
    "how mass is frequently formed?\n",
    "    - Probability distribution function\n",
    "    - usually defined as broken power-laws\n",
    "\n",
    "ℹ️ Some tips to come in the next slides"
   ]
  },
  {
   "cell_type": "markdown",
   "metadata": {
    "cell_id": "3ac4f8f4853b41519bd7c94b4c97d757",
    "deepnote_cell_type": "markdown"
   },
   "source": [
    "## Class Inheritance: Establish relationships between objects.\n",
    "Of course, a language feature would not be worthy of the name “class” without supporting inheritance. The syntax for a derived class definition looks like this:"
   ]
  },
  {
   "cell_type": "code",
   "execution_count": 49,
   "metadata": {
    "cell_id": "3372062afece42179afcf8dd38638a62",
    "deepnote_cell_type": "code"
   },
   "outputs": [],
   "source": [
    "class IMF(object):\n",
    "    mass = [0.1, 120.]\n",
    "\n",
    "    \n",
    "class Salpeter(IMF):\n",
    "    pass"
   ]
  },
  {
   "cell_type": "code",
   "execution_count": 51,
   "metadata": {
    "cell_id": "eaef71829509429c971d2a7804831a14",
    "deepnote_cell_type": "code"
   },
   "outputs": [
    {
     "name": "stdout",
     "output_type": "stream",
     "text": [
      "[0.1, 120.0]\n"
     ]
    }
   ],
   "source": [
    "f = Salpeter()\n",
    "print(f.mass)"
   ]
  },
  {
   "cell_type": "markdown",
   "metadata": {
    "cell_id": "1ee0d7fa9b7a423096cdd8f09b8de62d",
    "deepnote_cell_type": "markdown"
   },
   "source": [
    "Execution of a derived class definition proceeds the same as for a base class. When the class object is constructed, the base class is remembered. This is used for resolving attribute references: if a requested attribute is not found in the class, the search proceeds to look in the base class. This rule is applied recursively if the base class itself is derived from some other class.\n",
    "\n",
    "There’s nothing special about instantiation of derived classes: `Salpeter()` creates a new instance of the class. Method references are resolved as follows: the corresponding class attribute is searched, ascending up the chain of parent classes if necessary, and the method reference is valid if this yields a function object.\n",
    "\n",
    "Derived classes may override methods of their base classes.\n",
    "\n",
    "An overriding method in a derived class may in fact want to extend rather than simply replace the base class method of the same name. There is a simple way to call the base class method directly: just call `IMF.methodname(self, *args, **kwargs)`. It is common to call the parent constructor in the derived class constructor:\n",
    "\n",
    "```python\n",
    "def Salpeter(IMF):\n",
    "    def __init__(self, *args, **kwargs):\n",
    "        IMF.__init__(self, *args, **kwargs)\n",
    "```\n",
    "or \n",
    "```python\n",
    "def Salpeter(IMF):\n",
    "    def __init__(self, *args, **kwargs):\n",
    "        super().__init__(self, *args, **kwargs)\n",
    "```\n",
    "\n",
    "Note that the above example is equivalent to doing nothing special and thus can be omitted (it is the implicit definition from inheritance)"
   ]
  },
  {
   "cell_type": "markdown",
   "metadata": {
    "cell_id": "8b17b643d4bb4265a710a9cbf335b350",
    "deepnote_cell_type": "markdown"
   },
   "source": [
    "**The requirements are:**\n",
    "\n",
    "* Computing the expected number of stars per mass bin\n",
    "* Computing the mass enclosed in a given mass range\n",
    "* Being able to draw random masses from an IMF\n",
    "* What is the average mass predicted by an IMF?\n",
    "\n",
    "Below is a template of IMF class. **Feel free to adapt.**"
   ]
  },
  {
   "cell_type": "code",
   "execution_count": 52,
   "metadata": {
    "cell_id": "65f7b2bab2f04df1a27fedc144e6e98e",
    "deepnote_cell_type": "code"
   },
   "outputs": [],
   "source": [
    "class IMF(object):\n",
    "    \"\"\"\n",
    "    IMF object class\n",
    "    let you define an IMF as multiple power-laws.\n",
    "\n",
    "    attributes:\n",
    "        norm:    norm of the function\n",
    "    \"\"\"\n",
    "\n",
    "    def __init__(self, *args, **kwargs):\n",
    "        \"\"\"\n",
    "        \"\"\"\n",
    "        pass\n",
    "\n",
    "    def get_enclosed_mass(self, Mmin, Mmax):\n",
    "        \"\"\"Get the enclosed mass over a given mass range.\n",
    "        \"\"\"\n",
    "        pass\n",
    "\n",
    "    def get_enclosed_Nstar(self, Mmin, Mmax):\n",
    "        \"\"\"Get the enclosed dN over a given mass range\n",
    "        \"\"\"\n",
    "        pass\n",
    "\n",
    "    def get_avg_mass(self, Mmin, Mmax):\n",
    "        \"\"\" get the avg mass over a given range \"\"\"\n",
    "        pass\n",
    "\n",
    "    def getValue(self, m):\n",
    "        \"\"\" returns the value of the normalized IMF at a given mass m:\n",
    "            note: m can be an iterable\n",
    "        \"\"\"\n",
    "        pass\n",
    "\n",
    "    def random(self, N, massMin=None, massMax=None):\n",
    "        \"\"\" Draw samples from this distribution\n",
    "        Samples are distributed over the interval [massMin, massMax]\n",
    "        Interval is truncated to the IMF range definition if it extents beyond it. \n",
    "        (taken as is otherwise)\n",
    "        \"\"\"\n",
    "        pass\n",
    "    \n",
    "    def __call__(self, m=None):\n",
    "        return self.getValue(m)"
   ]
  },
  {
   "cell_type": "markdown",
   "metadata": {
    "cell_id": "9df27528565d4142af9a2160715a84d7",
    "deepnote_cell_type": "markdown",
    "tags": []
   },
   "source": [
    "### Some common IMF\n",
    "\n",
    "Below some definitions in terms of `x` the mass interval edges and `a` the power-law indices on each interval.\n",
    "\n",
    "* Kroupa2001\n",
    "    ```python\n",
    "    x = [0.01, 0.08, 0.5, 1., 150.]\n",
    "    a = [0.7, -0.3, -1.3, -1.3]\n",
    "    ```\n",
    "* Kennicut\n",
    "    ```python\n",
    "    x = [0.1, 1., 120.]\n",
    "    a = [-0.4, -1.5]\n",
    "    ```\n",
    "* Salpeter\n",
    "    ```\n",
    "    x = [0.1, 120.]\n",
    "    a = [-1.35]\n",
    "    ```"
   ]
  },
  {
   "cell_type": "markdown",
   "metadata": {
    "cell_id": "310a9060b1d042e0a85a682dd9a06be9",
    "deepnote_cell_type": "markdown",
    "tags": []
   },
   "source": [
    "### Mathematical Background"
   ]
  },
  {
   "cell_type": "markdown",
   "metadata": {
    "cell_id": "9961176ededd4c7caeb96bf56fe06a75",
    "deepnote_cell_type": "markdown",
    "tags": []
   },
   "source": [
    "An IMF is a probability density distribution function: \n",
    "$\\displaystyle{p(m | IMF) = \\frac{1}{Z} \\frac{dN}{dm}},$\n",
    "where its integral is unity (by definition) gives use\n",
    "$\\displaystyle{Z = \\int_{m_{min}}^{m_{max}} \\frac{dN}{dm} dm}.$\n",
    "The function is continuous.\n",
    "\n",
    "💡 _The first task of the contructor will be to create a continous function from the broken power-law definition and to normalize it properly._\n",
    "\n",
    "⚠️ when indexes of the different power-laws are in units of $dN/dM$, $-2.35$ corresponds to a Salpeter IMF. But, sometimes you could find $-1.35$, which corresponds to an index defined in terms of $dN/dlog(M)$.\n",
    "\n",
    "From this, the fractional number of stars within an interval $[m_1, m_2]$ is the integral:\n",
    "$\\displaystyle{n_\\star = \\frac{1}{Z} \\int_{m_{1}}^{m_{2}} \\frac{dN}{dm} dm},$\n",
    "and the mass is expectation of the distribution, \n",
    "$\\displaystyle{m_\\star = \\frac{1}{Z} \\int_{m_{1}}^{m_{2}} m \\frac{dN}{dm} dm}.$\n",
    "The average mass over this interval is then $\\displaystyle{\\overline{m}_\\star = \\frac{m_\\star}{n_\\star}}$"
   ]
  },
  {
   "cell_type": "markdown",
   "metadata": {
    "cell_id": "f8e5f4e44c794c06b7ee207511804520",
    "deepnote_cell_type": "markdown",
    "tags": []
   },
   "source": [
    "**Drawing random samples**\n",
    "\n",
    "drawing random numbers from a given distribution can be done using multiple methods. When you can compute or accurately estimate the integral of your function, the optimal way is to use it, aka \"_Inverse transform sampling_\". Briefly:\n",
    "\n",
    "let's call $F(x) = \\int_{m_{min}}^{x} p(m) dm$\n",
    "\n",
    "Since we use power laws, the intregral is trivial. if $x$ such as $M[i] \\leq x < M[i+1]$, with $M$ the masses used to define the IMF:\n",
    "\n",
    "$F(x) = F(M[i]) + \\frac{1}{Z} \\frac{1}{a[i] + 1} \\left( x ^{a[i] + 1} - M[i] ^ {a[i] + 1}\\right)$\n",
    "\n",
    "The trick is to observe that $F(x)$ varies between $0$ and $1$, and that there is a unique mapping between $F(x)$ and $x$ ($F$ is a bijective function). I spare the proof but we can demonstrate that drawing uniform $F(x)$ numbers between 0 and 1 will then give us $x$ values that exactly follow the IMF.\n",
    "\n",
    "In our case, the previous equation is inversible, and once you extract $x$ as a function of $F(x)$ you're done.\n"
   ]
  },
  {
   "cell_type": "markdown",
   "metadata": {
    "cell_id": "b2cd4d4e8fc84b4a896b6a91b17a003d",
    "deepnote_cell_type": "markdown",
    "tags": []
   },
   "source": [
    "### Your solution"
   ]
  },
  {
   "cell_type": "code",
   "execution_count": 62,
   "metadata": {
    "cell_id": "9e6f042f06ff43c39b9666d04ac5a7b6",
    "deepnote_cell_type": "code",
    "tags": []
   },
   "outputs": [],
   "source": [
    "import numpy as np\n",
    "\n",
    "\n",
    "class IMF(object):\n",
    "    \"\"\"\n",
    "    Here is one possible implementation, which\n",
    "    let you define an IMF as multiple power-laws\n",
    "    \"\"\"\n",
    "    def __init__(self, nI, x, a, massMin=0.1, massMax=120., name=None):\n",
    "        \"\"\"__init__ - constructor of the class\n",
    "\n",
    "        Parameters\n",
    "        ----------\n",
    "        nI: int\n",
    "            number of definition intervals\n",
    "\n",
    "        x:  iterable\n",
    "            interval edges (of len nI + 1)\n",
    "\n",
    "        a:  iterable\n",
    "            power-law indexes (of len nI) in units of dN/dM (Salpeter corresponds to -2.35)\n",
    "\n",
    "        massMin: float\n",
    "            minimal mass\n",
    "\n",
    "        massMax:\n",
    "            maximal mass\n",
    "\n",
    "        name: string\n",
    "            optional name\n",
    "\n",
    "        notes\n",
    "        -----\n",
    "        1 - the mass range can be restricted by massMin, massMax while keeping\n",
    "            the official definition.\n",
    "        2 - indexes of the different power-laws are assumed to be in units of\n",
    "            dN/dM, ie, -2.35 corresponds to a Salpeter IMF. However, sometimes\n",
    "            you could find -1.35, which corresponds to an index defined in\n",
    "            terms of dN/dlog(M).\n",
    "        \"\"\"\n",
    "        # Store relevant information\n",
    "        # ==========================\n",
    "        self.nIMFbins  = nI\n",
    "        self.massinf   = np.asarray(x)\n",
    "        self.slope     = np.asarray(a)\n",
    "        self.name      = name\n",
    "        self.coeffcont = np.zeros(np.size(a))\n",
    "        self.massMin   = massMin\n",
    "        self.massMax   = massMax\n",
    "\n",
    "        # Make functional form\n",
    "        # ====================\n",
    "        # the first step is to build the functional form of the IMF:\n",
    "        # i.e., make a continuous function and compute the normalization\n",
    "\n",
    "        # continuity\n",
    "        # ----------\n",
    "        # given by:  c[i-1] * x[i] ^ a[i-1] = c[i] * x[i] ^ a[i]\n",
    "        # arbitrary choice for the first point, which will be corrected by the\n",
    "        # normalization step.\n",
    "        self.coeffcont[0] = 1.\n",
    "        for i in range(1, nI):\n",
    "            self.coeffcont[i]  = (self.coeffcont[i - 1])\n",
    "            self.coeffcont[i] *= (x[i] ** (a[i - 1] - a[i]))\n",
    "\n",
    "        # normalize\n",
    "        # ---------\n",
    "        # depends on the adpoted definition of the IMF indexes:\n",
    "        # either dN/dM or dN/dlog(M). In this example we consider that indexes\n",
    "        # are given in units of dN/dM.\n",
    "        # get the norm : integral(imf(M) dM) = 1 seen as a prob dist. funct.\"\"\"\n",
    "        self.norm = 1.  # will be updated at the next line\n",
    "        self.norm = self.get_enclosed_Nstar(self.massMin, self.massMax)\n",
    "\n",
    "        # Compute the average mass\n",
    "        self.avg = self.get_avg_mass(self.massMin, self.massMax)\n",
    "\n",
    "    def get_enclosed_Nstar(self, Mmin, Mmax):\n",
    "        \"\"\"get_enclosed_Nstar - Get the enclosed dN over a given mass range.\n",
    "        Analytic integration, Sum(imf(m) dm)\n",
    "        Note: no extrapolation outside the original mass range definition of the IMF.\n",
    "\n",
    "        keywords\n",
    "        --------\n",
    "        Mmin, Mmax: float, float\n",
    "            lower and upper masses\n",
    "\n",
    "        returns\n",
    "        -------\n",
    "        r: float\n",
    "            enclosed dN within [Mmin, Mmax]\n",
    "        \"\"\"\n",
    "        x = self.massinf\n",
    "        a = self.slope\n",
    "        c = self.coeffcont\n",
    "\n",
    "        # will be useful in the integration\n",
    "        b = a + 1.\n",
    "\n",
    "        val = 0.\n",
    "        # analytical integration of a power law\n",
    "        for i in range(0, self.nIMFbins):\n",
    "            if (Mmin < x[i + 1]) & (Mmax > x[i]):\n",
    "                if x[i] <= Mmin:\n",
    "                    x0 = Mmin\n",
    "                else:\n",
    "                    x0 = x[i]\n",
    "                if x[i + 1] <= Mmax:\n",
    "                    x1 = x[i + 1]\n",
    "                else:\n",
    "                    x1 = Mmax\n",
    "                # careful if the index is 1\n",
    "                if a[i] == 1:\n",
    "                    S = c[i] * (np.log(x1) - np.log(x0))\n",
    "                else:\n",
    "                    S = c[i] / b[i] * ( (x1) ** (b[i]) - (x0) ** (b[i]) )\n",
    "                val += S\n",
    "\n",
    "        return val * self.norm\n",
    "\n",
    "    def get_enclosed_mass(self, Mmin, Mmax):\n",
    "        \"\"\"get_enclosed_mass - Get the enclosed mass over a given mass range.\n",
    "        Analytic integration, integral(m * imf(m) dm)\n",
    "\n",
    "        Note: no extrapolation outside the original mass range definition of the IMF.\n",
    "\n",
    "        Parameters\n",
    "        ----------\n",
    "        Mmin, Mmax: float, float\n",
    "            lower and upper masses\n",
    "\n",
    "        returns\n",
    "        -------\n",
    "        r: float\n",
    "            enclosed mass within [Mmin, Mmax]\n",
    "        \"\"\"\n",
    "        x = self.massinf\n",
    "        a = self.slope\n",
    "        c = self.coeffcont\n",
    "\n",
    "        # will be useful in the integration\n",
    "        b = a + 2.\n",
    "\n",
    "        val = 0.\n",
    "        # analytical integration of a power law\n",
    "        for i in range(0, self.nIMFbins):\n",
    "            if (Mmin < x[i + 1]) & (Mmax > x[i]):\n",
    "                if x[i] <= Mmin:\n",
    "                    x0 = Mmin\n",
    "                else:\n",
    "                    x0 = x[i]\n",
    "                if x[i + 1] <= Mmax:\n",
    "                    x1 = x[i + 1]\n",
    "                else:\n",
    "                    x1 = Mmax\n",
    "\n",
    "                # careful if the index is 1\n",
    "                if a[i] == 2:\n",
    "                    S = c[i] * (np.log(x1) - np.log(x0))\n",
    "                else:\n",
    "                    S = c[i] / b[i] * ( (x1) ** (b[i]) - (x0) ** (b[i]) )\n",
    "                val += S\n",
    "\n",
    "        return val * self.norm\n",
    "\n",
    "    def getValue(self, m):\n",
    "        \"\"\"getValue - returns the value of the normalized IMF at a given mass m\n",
    "            IMF(m) = 1 / norm * c * m ** a\n",
    "            and integral( IMF(m) dm ) = 1\n",
    "\n",
    "        Parameters\n",
    "        ----------\n",
    "        m: float or iterable of floats\n",
    "            masses at which evaluate the function\n",
    "\n",
    "        returns\n",
    "        -------\n",
    "        r: float or ndarray(dtype=float)\n",
    "            evaluation of the function (normalized imf)\n",
    "        \"\"\"\n",
    "        # if m is iterable\n",
    "        if getattr(m, '__iter__', False):\n",
    "            return np.asarray([ self.getValue(mk) for mk in m])\n",
    "        else:\n",
    "            # extrapolation\n",
    "            if (m > self.massMax) or (m < self.massMin):\n",
    "                return 0.\n",
    "            # exact value exists\n",
    "            elif m in self.massinf[:-1]:\n",
    "                ind = np.where(m == self.massinf)\n",
    "                return float(float(self.coeffcont[ind]) / self.norm * m ** self.slope[ind])\n",
    "            # otherwise do the evaluation with the correct interval\n",
    "            else:\n",
    "                i = 0\n",
    "                if self.nIMFbins > 1:\n",
    "                    while m > self.massinf[i]:\n",
    "                        i += 1\n",
    "                    i -= 1\n",
    "                if self.massinf[i] > self.massMax:\n",
    "                    return 0.\n",
    "                else:\n",
    "                    return float(float(self.coeffcont[i]) / self.norm * m ** self.slope[i])\n",
    "\n",
    "    def get_avg_mass(self, Mmin, Mmax):\n",
    "        \"\"\" get the avg mass over a given range\n",
    "              < M > = integral(M * imf * dM) / integral(imf * dM)\n",
    "\n",
    "        :param Mmin: float, lower mass\n",
    "        :param Mmax: float, upper mass\n",
    "        \"\"\"\n",
    "        return self.get_enclosed_mass(Mmin, Mmax) / self.get_enclosed_Nstar(Mmin, Mmax)\n",
    "\n",
    "    def random(self, N, massMin=None, massMax=None):\n",
    "        \"\"\"random - Draw mass samples from this distribution\n",
    "        Samples are distributed over the interval [massMin, massMax]\n",
    "        Interval is truncated to the IMF range definition if it extents beyond it. (taken as is otherwise)\n",
    "\n",
    "        Parameters\n",
    "        ----------\n",
    "\n",
    "        N: int\n",
    "            size of the sample\n",
    "\n",
    "        massMin: float\n",
    "            lower mass (default self.massMin)\n",
    "\n",
    "        massMax: float\n",
    "            upper mass (default self.massMax)\n",
    "\n",
    "        returns\n",
    "        -------\n",
    "\n",
    "        r: ndarray(dtype=float)\n",
    "            returns an array of random masses\n",
    "\n",
    "        method\n",
    "        ------\n",
    "\n",
    "        drawing random numbers from a given distribution can be done using\n",
    "        multiple methods. When you can compute or accurately estimate the\n",
    "        integral of your function, the optimal way is to use it, aka \"Inverse\n",
    "        transform sampling\". Briefly:\n",
    "\n",
    "        let's call F(x) = integral( imf(m) dm, m=massMin..x)\n",
    "\n",
    "        Since we use power laws, the intregral is trivial. if x such as\n",
    "        M[i] <= x < M[i+1], with M the masses used to define the IMF:\n",
    "\n",
    "        F(x) = F(M[i]) + 1 / norm * 1 / (a[i] + 1) ( x ** (a[i] + 1) - M[i] ** (a[i] + 1) )\n",
    "\n",
    "        The trick is to observe that F(x) varies between 0 and 1, and that\n",
    "        there is a unique mapping between F(x) and x (F is a bijective\n",
    "        function).\n",
    "        I spare the proof but we can demonstrate that drawing uniform F(x)\n",
    "        numbers between 0 and 1 will then give us x values that exactly follow\n",
    "        the imf.\n",
    "\n",
    "        In our case, the previous equation is inversible, and once you extract\n",
    "        x as a function of F(x) you're done.\n",
    "        \"\"\"\n",
    "\n",
    "        # check keyword values, default is the IMF definition\n",
    "        massMin = massMin or self.massMin\n",
    "        massMax = massMax or self.massMax\n",
    "\n",
    "        beta = self.slope + 1.\n",
    "\n",
    "        # compute the cumulative distribution values at each mass interval edge\n",
    "        F = np.zeros(self.nIMFbins + 1)\n",
    "        F[-1] = 1.0\n",
    "        for i in range(1, self.nIMFbins):\n",
    "            F[i] = F[i - 1] + 1. / self.norm * (self.coeffcont[i - 1] / (beta[i - 1])) * ( self.massinf[i] ** (beta[i - 1]) - self.massinf[i - 1] ** (beta[i - 1]) )\n",
    "\n",
    "        #find intervals of massMin and massMax\n",
    "        for k in range(self.nIMFbins):\n",
    "            if massMin >= self.massinf[k]:\n",
    "                mink = k\n",
    "            if massMax >= self.massinf[k]:\n",
    "                maxk = k\n",
    "        if massMin < self.massMin:\n",
    "            Fmin = 0.\n",
    "        elif massMin >= self.massMax:\n",
    "            return\n",
    "        else:\n",
    "            i = mink\n",
    "            Fmin = F[i] + 1. / self.norm * ( self.coeffcont[i] / (beta[i]) ) * ( massMin ** (beta[i]) - self.massinf[i] ** (beta[i]) )\n",
    "\n",
    "        if massMax >= self.massMax:\n",
    "            Fmax = 1.0\n",
    "        elif massMax < self.massMin:\n",
    "            return\n",
    "        else:\n",
    "            i = maxk\n",
    "            Fmax = F[i] + 1. / self.norm * ( self.coeffcont[i] / (beta[i]) ) * ( massMax ** (beta[i]) - self.massinf[i] ** (beta[i]) )\n",
    "\n",
    "        x = np.random.uniform(Fmin, Fmax, N)\n",
    "        y = np.zeros(N)\n",
    "        for k in range(self.nIMFbins):\n",
    "            ind = np.where((x >= F[k]) & (x < F[k + 1]))\n",
    "            if len((ind)[0]) > 0:\n",
    "                y[ind] = self.massinf[k] * ( 1. + (x[ind] - F[k]) / (self.massinf[k] ** (beta[k])) * ( beta[k] ) * self.norm / self.coeffcont[k]) ** (1. / (beta[k]))\n",
    "        return y\n",
    "\n",
    "    def __call__(self, m=None):\n",
    "        \"\"\"__call__ - make a callable object (function like)\n",
    "\n",
    "        Parameters\n",
    "        ----------\n",
    "\n",
    "        m: float or iterable or None\n",
    "            if None calls self.info()\n",
    "            else calls self.getValue(m)\n",
    "        \"\"\"\n",
    "        if m is None:\n",
    "            return self.info()\n",
    "        return self.getValue(m)\n",
    "\n",
    "    def info(self):\n",
    "        \"\"\" prints a quick summary of the functional object \"\"\"\n",
    "        txt = \"\"\"IMF: {s.name}, IMF(m) = 1./norm * c * m ** a\n",
    "        nI = {s.nIMFbins},\n",
    "        norm = {s.norm}, 1/norm = {invnorm},\n",
    "        Average mass = {s.avg},\n",
    "        m[] = {s.massinf},\n",
    "        a[] = {s.slope},\n",
    "        c[] = {s.coeffcont}\"\"\"\n",
    "        print(txt.format(s=self, invnorm=1. / self.norm))\n",
    "\n",
    "\n",
    "# Deriving common IMF from the literature\n",
    "#=========================================\n",
    "\n",
    "# in the definitions below, power-law indexes are given for the dN/dlog(M)\n",
    "# definition and accordingly converted before usage\n",
    "\n",
    "class Kennicutt(IMF):\n",
    "    def __init__(self):\n",
    "        nI = 2\n",
    "        x = [0.1, 1., 120.]\n",
    "        a = [-0.4, -1.5]\n",
    "        a = np.asarray(a) - 1\n",
    "        massMin = 0.1\n",
    "        massMax = 120.\n",
    "        IMF.__init__(self, nI, x, a, massMin, massMax, name='Kennicutt')\n",
    "\n",
    "\n",
    "class Kroupa2001(IMF):\n",
    "    def __init__(self):\n",
    "        nI = 4\n",
    "        x = [0.01, 0.08, 0.5, 1., 150.]\n",
    "        a = [0.7, -0.3, -1.3, -1.3]\n",
    "        a = np.asarray(a) - 1\n",
    "        massMin = 0.01\n",
    "        massMax = 120.\n",
    "        IMF.__init__(self, nI, x, a, massMin, massMax, name='Kroupa 2001')\n",
    "\n",
    "\n",
    "class Kroupa93(IMF):\n",
    "    def __init__(self):\n",
    "        nI = 3\n",
    "        x = [0.1, 0.5, 1., 120.]\n",
    "        a = [-0.3, -1.2, -1.7]\n",
    "        a = np.asarray(a) - 1\n",
    "        massMin = 0.1\n",
    "        massMax = 120.\n",
    "        IMF.__init__(self, nI, x, a, massMin, massMax, name='Kroupa 1993')\n",
    "\n",
    "\n",
    "class Salpeter(IMF):\n",
    "    def __init__(self):\n",
    "        nI = 1\n",
    "        x = [0.1, 120.]\n",
    "        a = [-1.35]\n",
    "        a = np.asarray(a) - 1\n",
    "        massMin = 0.1\n",
    "        massMax = 120.\n",
    "        IMF.__init__(self, nI, x, a, massMin, massMax, name='Salpeter')\n",
    "\n",
    "\n",
    "class MillerScalo(IMF):\n",
    "    def __init__(self):\n",
    "        nI = 3\n",
    "        x = [0.1, 1., 10., 120.]\n",
    "        a = [-0.4, -1.5, -2.3]\n",
    "        a = np.asarray(a) - 1\n",
    "        massMin = 0.1\n",
    "        massMax = 120.\n",
    "        IMF.__init__(self, nI, x, a, massMin, massMax, name='Miller & Scalo')\n",
    "\n",
    "\n",
    "class Scalo98(IMF):\n",
    "    def __init__(self):\n",
    "        nI = 3\n",
    "        x = [0.1, 1., 10., 120.]\n",
    "        a = [-0.2, -1.7, -1.3]\n",
    "        a = np.asarray(a) - 1\n",
    "        massMin = 0.1\n",
    "        massMax = 120.\n",
    "        IMF.__init__(self, nI, x, a, massMin, massMax, name='Scalo 1998')\n",
    "\n",
    "\n",
    "class Scalo86(IMF):\n",
    "    def __init__(self):\n",
    "        nI = 24\n",
    "        x = [    1.00000000e-01,   1.10000000e-01,   1.40000000e-01,\n",
    "                 1.80000000e-01,   2.20000000e-01,   2.90000000e-01,\n",
    "                 3.60000000e-01,   4.50000000e-01,   5.40000000e-01,\n",
    "                 6.20000000e-01,   7.20000000e-01,   8.30000000e-01,\n",
    "                 9.80000000e-01,   1.17000000e+00,   1.45000000e+00,\n",
    "                 1.86000000e+00,   2.51000000e+00,   3.47000000e+00,\n",
    "                 5.25000000e+00,   7.94000000e+00,   1.20200000e+01,\n",
    "                 1.82000000e+01,   2.69200000e+01,   4.16900000e+01,\n",
    "                 1.20000000e+02     ]\n",
    "        a = [  3.2   ,  2.455,  2.   ,  0.3  ,  0.   ,  0.   , -0.556, -1.625,\n",
    "               -1.833, -1.286,  1.5  , -1.857,  0.   , -2.333, -3.455, -1.692,\n",
    "               -2.571, -1.722, -1.611, -1.667, -2.333, -1.353, -0.947, -1.778]\n",
    "        a = np.asarray(a) - 1\n",
    "        massMin = 0.1\n",
    "        massMax = 120.\n",
    "        IMF.__init__(self, nI, x, a, massMin, massMax, name='Scalo 1986')"
   ]
  },
  {
   "cell_type": "markdown",
   "metadata": {
    "cell_id": "f92084a6ce674c1c9b44a3a92f8ca0d0",
    "deepnote_cell_type": "markdown"
   },
   "source": [
    "Plot at least a couple of mass functions on the same figure"
   ]
  },
  {
   "cell_type": "code",
   "execution_count": 63,
   "metadata": {
    "cell_id": "7bd8f7e959be4d2a96fedbfb01876ff3",
    "deepnote_cell_type": "code"
   },
   "outputs": [
    {
     "name": "stdout",
     "output_type": "stream",
     "text": [
      "IMF: Salpeter, IMF(m) = 1./norm * c * m ** a\n",
      "        nI = 1,\n",
      "        norm = 16.5819640406949, 1/norm = 0.060306487069072975,\n",
      "        Average mass = 0.3534872405601367,\n",
      "        m[] = [1.0e-01 1.2e+02],\n",
      "        a[] = [-2.35],\n",
      "        c[] = [1.]\n"
     ]
    }
   ],
   "source": [
    "imf = Salpeter()\n",
    "imf.info()"
   ]
  },
  {
   "cell_type": "code",
   "execution_count": 105,
   "metadata": {},
   "outputs": [
    {
     "name": "stdout",
     "output_type": "stream",
     "text": [
      "IMF: Kroupa 2001, IMF(m) = 1./norm * c * m ** a\n",
      "        nI = 4,\n",
      "        norm = 0.503249268284521, 1/norm = 1.9870868434817714,\n",
      "        Average mass = 0.37970570399992787,\n",
      "        m[] = [1.0e-02 8.0e-02 5.0e-01 1.0e+00 1.5e+02],\n",
      "        a[] = [-0.3 -1.3 -2.3 -2.3],\n",
      "        c[] = [1.   0.08 0.04 0.04]\n"
     ]
    }
   ],
   "source": [
    "imf = Kroupa2001()\n",
    "imf.info()"
   ]
  },
  {
   "cell_type": "code",
   "execution_count": 64,
   "metadata": {},
   "outputs": [
    {
     "data": {
      "text/plain": [
       "<matplotlib.legend.Legend at 0x11cb885e0>"
      ]
     },
     "execution_count": 64,
     "metadata": {},
     "output_type": "execute_result"
    },
    {
     "data": {
      "image/png": "[encoded data removed]",
      "text/plain": [
       "<Figure size 432x288 with 1 Axes>"
      ]
     },
     "metadata": {
      "needs_background": "light"
     },
     "output_type": "display_data"
    }
   ],
   "source": [
    "logm = np.arange(np.log10(0.1), np.log10(120), 0.1)\n",
    "m = 10 ** logm\n",
    "for imf_cls in (Salpeter, Kroupa2001, Kennicutt):\n",
    "    imf = imf_cls()\n",
    "    plt.plot(m, imf(m), label=imf.name, lw=2)\n",
    "plt.xscale('log')\n",
    "plt.yscale('log')\n",
    "plt.xlabel(r'mass [M$_\\odot$]')\n",
    "plt.ylabel(r'p(mass | IMF)')\n",
    "plt.legend()\n",
    "    "
   ]
  },
  {
   "cell_type": "markdown",
   "metadata": {
    "cell_id": "b8a0d77f09e54eeeb96e73a9f67d7e15",
    "deepnote_cell_type": "markdown"
   },
   "source": [
    "Draw a random sample of N masses from one mass function and show that the sample follows the desired distribution"
   ]
  },
  {
   "cell_type": "code",
   "execution_count": 104,
   "metadata": {
    "cell_id": "732ef88f4ba74d2eaa1c870871a7e69d",
    "deepnote_cell_type": "code"
   },
   "outputs": [
    {
     "data": {
      "text/plain": [
       "[<matplotlib.lines.Line2D at 0x12e2ad670>]"
      ]
     },
     "execution_count": 104,
     "metadata": {},
     "output_type": "execute_result"
    },
    {
     "data": {
      "image/png": "[encoded data removed]",
      "text/plain": [
       "<Figure size 432x288 with 1 Axes>"
      ]
     },
     "metadata": {
      "needs_background": "light"
     },
     "output_type": "display_data"
    }
   ],
   "source": [
    "imf = Kroupa2001()\n",
    "rvs = imf.random(10_000)  #10000 10_000\n",
    "_, b, _ = plt.hist(np.log10(rvs), log=True, \n",
    "                   bins=128, density=True, alpha=0.5)\n",
    "c = 0.5 * (b[1:] + b[:-1])\n",
    "dm = np.diff(10 ** b)\n",
    "plt.plot(c, imf(10 ** c) * dm / (b[1] - b[0]), lw=3)"
   ]
  },
  {
   "cell_type": "markdown",
   "metadata": {
    "cell_id": "9c09f8a65f764fd0aa609ea5de886564",
    "deepnote_cell_type": "markdown",
    "tags": []
   },
   "source": [
    "# Decorators\n",
    "\n",
    "A simple syntax for calling \"higher-order functions\"."
   ]
  },
  {
   "cell_type": "code",
   "execution_count": 72,
   "metadata": {
    "cell_id": "b192bd2b2165489eb599055c83f7edef",
    "deepnote_cell_type": "code",
    "deepnote_to_be_reexecuted": false,
    "execution_millis": 3,
    "execution_start": 1667549093802,
    "source_hash": "b8b75b77",
    "tags": []
   },
   "outputs": [],
   "source": [
    "def say_hello(name: str) -> str:\n",
    "    return f\"Hello {name:s}\"\n",
    "\n",
    "def be_awesome(name: str) -> str:\n",
    "    return f\"Yo {name:s}, together we are the awesomest!\"\n",
    "\n",
    "def greet_bob(greeter_func: Callable) -> str:\n",
    "    return greeter_func(\"Bob\")"
   ]
  },
  {
   "cell_type": "code",
   "execution_count": 73,
   "metadata": {
    "cell_id": "9c15b84102de4796878c38f8a51ed0fe",
    "deepnote_cell_type": "code",
    "deepnote_to_be_reexecuted": false,
    "execution_millis": 7,
    "execution_start": 1667549094626,
    "source_hash": "5cf83620",
    "tags": []
   },
   "outputs": [
    {
     "data": {
      "text/plain": [
       "'Hello Bob'"
      ]
     },
     "execution_count": 73,
     "metadata": {},
     "output_type": "execute_result"
    }
   ],
   "source": [
    "greet_bob(say_hello)"
   ]
  },
  {
   "cell_type": "code",
   "execution_count": 74,
   "metadata": {
    "cell_id": "9cabf6d5f7b14af4b1a7fcdf88ffe6a8",
    "deepnote_cell_type": "code",
    "deepnote_to_be_reexecuted": false,
    "execution_millis": 14,
    "execution_start": 1667549094631,
    "source_hash": "314d2a07",
    "tags": []
   },
   "outputs": [
    {
     "data": {
      "text/plain": [
       "'Yo Bob, together we are the awesomest!'"
      ]
     },
     "execution_count": 74,
     "metadata": {},
     "output_type": "execute_result"
    }
   ],
   "source": [
    "greet_bob(be_awesome)"
   ]
  },
  {
   "cell_type": "markdown",
   "metadata": {
    "cell_id": "33a2785c84d14bbea339ed5ff05b16a8",
    "deepnote_cell_type": "markdown",
    "tags": []
   },
   "source": [
    "ℹ️ `greet_bob` takes a function as argument. In Python, functions can be passed around and used as arguments"
   ]
  },
  {
   "cell_type": "markdown",
   "metadata": {
    "cell_id": "42f592167b5a44efa46abc884ec653e6",
    "deepnote_cell_type": "markdown",
    "tags": []
   },
   "source": [
    "## Inner Functions"
   ]
  },
  {
   "cell_type": "code",
   "execution_count": 75,
   "metadata": {
    "cell_id": "d27758dd02f345ff976e97dd076004ce",
    "deepnote_cell_type": "code",
    "deepnote_to_be_reexecuted": false,
    "execution_millis": 4,
    "execution_start": 1667549090219,
    "source_hash": "9eb03e83",
    "tags": []
   },
   "outputs": [],
   "source": [
    "def parent() -> None:\n",
    "    print(\"Printing from the parent() function\")\n",
    "\n",
    "    def first_child() -> None:\n",
    "        print(\"Printing from the first_child() function\")\n",
    "\n",
    "    def second_child() -> None:\n",
    "        print(\"Printing from the second_child() function\")\n",
    "\n",
    "    second_child()\n",
    "    first_child()"
   ]
  },
  {
   "cell_type": "code",
   "execution_count": 76,
   "metadata": {
    "cell_id": "fc242241a5554369b317acaef6364d1c",
    "deepnote_cell_type": "code",
    "deepnote_to_be_reexecuted": false,
    "execution_millis": 6,
    "execution_start": 1667549090527,
    "source_hash": "68526b2e",
    "tags": []
   },
   "outputs": [
    {
     "name": "stdout",
     "output_type": "stream",
     "text": [
      "Printing from the parent() function\n",
      "Printing from the second_child() function\n",
      "Printing from the first_child() function\n"
     ]
    }
   ],
   "source": [
    "parent()"
   ]
  },
  {
   "cell_type": "markdown",
   "metadata": {
    "cell_id": "fc3e76a897214722b30b7bc217d0bab9",
    "deepnote_cell_type": "markdown",
    "tags": []
   },
   "source": [
    "ℹ️ _inner functions_ are local variables (scope dependent)."
   ]
  },
  {
   "cell_type": "markdown",
   "metadata": {
    "cell_id": "64affac06e0d412f8d14f232dcb15a3a",
    "deepnote_cell_type": "markdown",
    "tags": []
   },
   "source": [
    "## Returning functions from functions\n",
    "\n",
    "As any other variable, Python allows you to use functions as return values."
   ]
  },
  {
   "cell_type": "code",
   "execution_count": 77,
   "metadata": {
    "cell_id": "01fb5f02d81046febdbb70d086da41af",
    "deepnote_cell_type": "code",
    "deepnote_to_be_reexecuted": false,
    "execution_millis": 2,
    "execution_start": 1667549081775,
    "source_hash": "16a81195",
    "tags": []
   },
   "outputs": [],
   "source": [
    "def parent() -> Callable:\n",
    "    def inner() -> str:\n",
    "        return \"Hi, I am the inner function\"\n",
    "    return inner"
   ]
  },
  {
   "cell_type": "code",
   "execution_count": 78,
   "metadata": {
    "cell_id": "24671bcc0fa64b5daf30602eca47830b",
    "deepnote_cell_type": "code",
    "deepnote_to_be_reexecuted": false,
    "execution_millis": 7,
    "execution_start": 1667549085124,
    "source_hash": "68526b2e",
    "tags": []
   },
   "outputs": [
    {
     "data": {
      "text/plain": [
       "<function __main__.parent.<locals>.inner() -> str>"
      ]
     },
     "execution_count": 78,
     "metadata": {},
     "output_type": "execute_result"
    }
   ],
   "source": [
    "parent()"
   ]
  },
  {
   "cell_type": "code",
   "execution_count": 79,
   "metadata": {
    "cell_id": "97beb6ad3a19412f8c4f4886a0b1c78f",
    "deepnote_cell_type": "code",
    "deepnote_to_be_reexecuted": false,
    "execution_millis": 7,
    "execution_start": 1667549085439,
    "source_hash": "2e2d0174",
    "tags": []
   },
   "outputs": [
    {
     "data": {
      "text/plain": [
       "'Hi, I am the inner function'"
      ]
     },
     "execution_count": 79,
     "metadata": {},
     "output_type": "execute_result"
    }
   ],
   "source": [
    "parent()()"
   ]
  },
  {
   "cell_type": "markdown",
   "metadata": {
    "cell_id": "191debe2a4db4c30b7743888c29805f7",
    "deepnote_cell_type": "markdown",
    "tags": []
   },
   "source": [
    "## A first _useless_ decorator\n",
    "\n",
    "a decorator __wraps a function into a function__"
   ]
  },
  {
   "cell_type": "code",
   "execution_count": 80,
   "metadata": {
    "cell_id": "3bd7c0a0ae15490ebc50d2b50bd6f5ea",
    "deepnote_cell_type": "code",
    "deepnote_to_be_reexecuted": false,
    "execution_millis": 3,
    "execution_start": 1667549078427,
    "source_hash": "eda5b8bc",
    "tags": []
   },
   "outputs": [],
   "source": [
    "def deco(func: Callable) -> Callable:\n",
    "    def wrapper(*args, **kwargs):\n",
    "        print(f\"Something before calling the function.\")\n",
    "        result = func(*args, **kwargs)\n",
    "        print(\"Something after calling the function.\")\n",
    "        return result\n",
    "    return wrapper\n",
    "\n",
    "def say_whee():\n",
    "    print(\"Whee!\")\n",
    "\n",
    "say_whee = deco(say_whee)"
   ]
  },
  {
   "cell_type": "markdown",
   "metadata": {
    "cell_id": "366317663a7f4e899dc7f4b0cf5d8a81",
    "deepnote_cell_type": "markdown",
    "tags": []
   },
   "source": [
    "Can you guess what happens when you call `say_whee()`?"
   ]
  },
  {
   "cell_type": "code",
   "execution_count": 81,
   "metadata": {
    "cell_id": "b950203956ec4f8289143169033662bb",
    "deepnote_cell_type": "code",
    "deepnote_to_be_reexecuted": false,
    "execution_millis": 688,
    "execution_start": 1667549126071,
    "source_hash": "996d38f",
    "tags": []
   },
   "outputs": [
    {
     "name": "stdout",
     "output_type": "stream",
     "text": [
      "Something before calling the function.\n",
      "Whee!\n",
      "Something after calling the function.\n"
     ]
    }
   ],
   "source": [
    "say_whee()"
   ]
  },
  {
   "cell_type": "markdown",
   "metadata": {
    "cell_id": "f0991f4a24ec4feeb0ab5eecaff869c2",
    "deepnote_cell_type": "markdown",
    "tags": []
   },
   "source": [
    "What happened?\n",
    "``` python\n",
    ">>> say_whee = deco(say_whee)   # decoration of `say_whee`\n",
    ">>> say_whee\n",
    "<function deco.<locals>.wrapper at 0x7f3c5dfd42f0>\n",
    "```\n",
    "\n",
    "* Syntactic Sugar!"
   ]
  },
  {
   "cell_type": "code",
   "execution_count": 82,
   "metadata": {
    "cell_id": "3b9b16440b034b7eb033421511339c5c",
    "deepnote_cell_type": "code",
    "deepnote_to_be_reexecuted": false,
    "execution_millis": 1,
    "execution_start": 1667549179615,
    "source_hash": "2e0eed08",
    "tags": []
   },
   "outputs": [],
   "source": [
    "@deco\n",
    "def say_whee():\n",
    "    print(\"Whee!\")"
   ]
  },
  {
   "cell_type": "code",
   "execution_count": 83,
   "metadata": {
    "cell_id": "953ba36eaad040e892737be04b44ea32",
    "deepnote_cell_type": "code",
    "deepnote_to_be_reexecuted": false,
    "execution_millis": 6,
    "execution_start": 1667549187210,
    "source_hash": "996d38f",
    "tags": []
   },
   "outputs": [
    {
     "name": "stdout",
     "output_type": "stream",
     "text": [
      "Something before calling the function.\n",
      "Whee!\n",
      "Something after calling the function.\n"
     ]
    }
   ],
   "source": [
    "say_whee()"
   ]
  },
  {
   "cell_type": "markdown",
   "metadata": {
    "cell_id": "0cd75f6ffb244e63a937f95c4e8bbbed",
    "deepnote_cell_type": "markdown",
    "tags": []
   },
   "source": [
    "## What's decorated?\n"
   ]
  },
  {
   "cell_type": "code",
   "execution_count": 84,
   "metadata": {
    "cell_id": "fc726ea248494e4f8bdb496b73468cac",
    "deepnote_cell_type": "code",
    "deepnote_to_be_reexecuted": false,
    "execution_millis": 7,
    "execution_start": 1667549226385,
    "source_hash": "67bdbb2e",
    "tags": []
   },
   "outputs": [
    {
     "name": "stdout",
     "output_type": "stream",
     "text": [
      "Help on function wrapper in module __main__:\n",
      "\n",
      "wrapper(*args, **kwargs)\n",
      "\n"
     ]
    }
   ],
   "source": [
    "help(say_whee)"
   ]
  },
  {
   "cell_type": "markdown",
   "metadata": {
    "cell_id": "b8ec51ab8dd14847bb3e75e6b820cdde",
    "deepnote_cell_type": "markdown",
    "tags": []
   },
   "source": [
    "How do we fix this? e.g., propagating documentation -->  `@functools.wraps`"
   ]
  },
  {
   "cell_type": "code",
   "execution_count": 85,
   "metadata": {
    "cell_id": "155619b25b0840378f4d567de96d6e2c",
    "deepnote_cell_type": "code",
    "deepnote_to_be_reexecuted": false,
    "execution_millis": 1,
    "execution_start": 1667549216867,
    "source_hash": "f03ba554",
    "tags": []
   },
   "outputs": [],
   "source": [
    "from functools import wraps\n",
    "\n",
    "def deco(func: Callable) -> Callable:\n",
    "    @wraps(func)\n",
    "    def wrapper(*args, **kwargs):\n",
    "        # Something before\n",
    "        result = func(*args, **kwargs)\n",
    "        # Something after\n",
    "        return result\n",
    "    return wrapper"
   ]
  },
  {
   "cell_type": "markdown",
   "metadata": {
    "cell_id": "ecc29fd90677469ab05676f08a23e838",
    "deepnote_cell_type": "markdown",
    "tags": []
   },
   "source": [
    "## Some useful examples of decorators\n",
    "\n",
    "- `timeit` - gives runtime of a function\n",
    "- `memoize` - A quick caching\n",
    "- `functools.lru_cache` - a LRU caching mechanism (built-in)\n",
    "- `astropy.units.quantity_input` to validate the units of arguments/outputs"
   ]
  },
  {
   "cell_type": "markdown",
   "metadata": {
    "cell_id": "ab94dc259c324e5a8a4d5cbe37030ab2",
    "deepnote_cell_type": "markdown",
    "tags": []
   },
   "source": [
    "### a simple `timeit`"
   ]
  },
  {
   "cell_type": "code",
   "execution_count": 86,
   "metadata": {
    "cell_id": "3bc6dcc46fd34e77b5218d7886fc8b77",
    "deepnote_cell_type": "code",
    "deepnote_to_be_reexecuted": false,
    "execution_millis": 3258,
    "execution_start": 1667549287829,
    "source_hash": "a1f7e73f",
    "tags": []
   },
   "outputs": [
    {
     "name": "stdout",
     "output_type": "stream",
     "text": [
      "Finished 'waste_some_time' in 3.3324 secs\n"
     ]
    }
   ],
   "source": [
    "from functools import wraps\n",
    "import time\n",
    "\n",
    "def timeit(func):\n",
    "    \"\"\"Prints the runtime of decorated functions\"\"\"\n",
    "    @wraps(func)\n",
    "    def wrapper_timer(*args, **kwargs):\n",
    "        start_time = time.perf_counter()\n",
    "        value = func(*args, **kwargs)\n",
    "        end_time = time.perf_counter()\n",
    "        run_time = end_time - start_time\n",
    "        print(f\"Finished {func.__name__!r} in {run_time:.4f} secs\")\n",
    "        return value\n",
    "    return wrapper_timer\n",
    "\n",
    "@timeit\n",
    "def waste_some_time(num_times):\n",
    "    for _ in range(num_times):\n",
    "        sum([i**2 for i in range(10000)])\n",
    "\n",
    "waste_some_time(999)"
   ]
  },
  {
   "cell_type": "markdown",
   "metadata": {
    "cell_id": "a88ba43c5d374f0b9321d97ed9aa946d",
    "deepnote_cell_type": "markdown",
    "tags": []
   },
   "source": [
    "## A quick caching `memoize`\n"
   ]
  },
  {
   "cell_type": "code",
   "execution_count": 87,
   "metadata": {
    "cell_id": "8e34f7a73fbc4147bff9607870f113de",
    "deepnote_cell_type": "code",
    "deepnote_to_be_reexecuted": false,
    "execution_millis": 4,
    "execution_start": 1667550472105,
    "source_hash": "67764b83",
    "tags": []
   },
   "outputs": [],
   "source": [
    "import functools \n",
    "\n",
    "\n",
    "class memoize(dict):\n",
    "    '''Caches a function's return value each time it is called\n",
    "    and returns the cached value when called later with the same arguments. (not reevaluated).\n",
    "    '''\n",
    "    def __init__(self, func):\n",
    "        self.func = func\n",
    "        functools.update_wrapper(self, func)\n",
    "\n",
    "    def __getitem__(self, *key):\n",
    "        return dict.__getitem__(self, key)\n",
    "\n",
    "    def __missing__(self, key):\n",
    "        ret = self[key] = self.func(*key)\n",
    "        return ret\n",
    "\n",
    "    __call__ = __getitem__\n",
    "\n",
    "\n",
    "@memoize\n",
    "def fibonacci(n):\n",
    "    \"Return the nth fibonacci number.\"\n",
    "    if n in (0, 1):\n",
    "        return n\n",
    "    return fibonacci(n-1) + fibonacci(n-2)"
   ]
  },
  {
   "cell_type": "code",
   "execution_count": 90,
   "metadata": {
    "cell_id": "ae9e532ec45244b092ce48074ba992d3",
    "deepnote_cell_type": "code",
    "deepnote_to_be_reexecuted": false,
    "execution_millis": 0,
    "execution_start": 1667550484919,
    "source_hash": "91dc9e47",
    "tags": []
   },
   "outputs": [
    {
     "name": "stdout",
     "output_type": "stream",
     "text": [
      "169 ns ± 0.754 ns per loop (mean ± std. dev. of 7 runs, 10,000,000 loops each)\n"
     ]
    }
   ],
   "source": [
    "%timeit fibonacci(30)"
   ]
  },
  {
   "cell_type": "markdown",
   "metadata": {
    "cell_id": "f55565c7851d46338092ebe24db3c294",
    "deepnote_cell_type": "markdown",
    "tags": []
   },
   "source": [
    "## built-in LRU cache decorator\n",
    "\n",
    "- speed up consecutive runs of functions and operations using cache"
   ]
  },
  {
   "cell_type": "code",
   "execution_count": 91,
   "metadata": {
    "cell_id": "ed9bf38185a84268a6db537fd1d002a8",
    "deepnote_cell_type": "code",
    "deepnote_to_be_reexecuted": false,
    "execution_millis": 3,
    "execution_start": 1667550509641,
    "source_hash": "b8b3b1b1",
    "tags": []
   },
   "outputs": [],
   "source": [
    "from functools import lru_cache\n",
    "\n",
    "@lru_cache\n",
    "def factorial(n):\n",
    "    return n * factorial(n-1) if n else 1"
   ]
  },
  {
   "cell_type": "code",
   "execution_count": 92,
   "metadata": {
    "cell_id": "0a2d717c1f5b4988996f9bfad7613c52",
    "deepnote_cell_type": "code",
    "deepnote_to_be_reexecuted": false,
    "execution_millis": 5,
    "execution_start": 1667550513789,
    "source_hash": "bc25c10f",
    "tags": []
   },
   "outputs": [
    {
     "name": "stdout",
     "output_type": "stream",
     "text": [
      "48.8 ns ± 0.661 ns per loop (mean ± std. dev. of 7 runs, 10,000,000 loops each)\n"
     ]
    }
   ],
   "source": [
    "%timeit factorial(20)"
   ]
  },
  {
   "cell_type": "markdown",
   "metadata": {
    "cell_id": "a3729615e3994fa0a446b8b9641d7aa8",
    "deepnote_cell_type": "markdown",
    "tags": []
   },
   "source": [
    "## Numba Jit\n",
    "\n",
    "- The Numba package provides the jit decorator, which makes running more intensive software a lot easier without having to drop into C."
   ]
  },
  {
   "cell_type": "code",
   "execution_count": 93,
   "metadata": {
    "cell_id": "c95d9db9f2fb4492a0d953347dfb28db",
    "deepnote_cell_type": "code",
    "deepnote_to_be_reexecuted": false,
    "execution_millis": 162,
    "execution_start": 1667550551841,
    "source_hash": "35e51f88",
    "tags": []
   },
   "outputs": [],
   "source": [
    "from numba import jit\n",
    "import random\n",
    "\n",
    "@jit(nopython=True)\n",
    "def monte_carlo_pi(nsamples):\n",
    "    acc = 0\n",
    "    for i in range(nsamples):\n",
    "        x = random.random()\n",
    "        y = random.random()\n",
    "        if (x ** 2 + y ** 2) < 1.0:\n",
    "            acc += 1\n",
    "    return 4.0 * acc / nsamples"
   ]
  },
  {
   "cell_type": "code",
   "execution_count": 97,
   "metadata": {
    "cell_id": "b484d94036b8437992d02e21b8f7a6fb",
    "deepnote_cell_type": "code",
    "tags": []
   },
   "outputs": [
    {
     "data": {
      "text/plain": [
       "3.14064"
      ]
     },
     "execution_count": 97,
     "metadata": {},
     "output_type": "execute_result"
    }
   ],
   "source": [
    "monte_carlo_pi(100_000)"
   ]
  },
  {
   "cell_type": "markdown",
   "metadata": {
    "cell_id": "6aa90102fcaa49c78299c7346811e861",
    "deepnote_cell_type": "markdown",
    "tags": []
   },
   "source": [
    "## Validating Astropy.units `quantity_input`\n",
    "\n",
    "- for validating the units of arguments to functions. ([doc](https://docs.astropy.org/en/stable/api/astropy.units.quantity_input.html))"
   ]
  },
  {
   "cell_type": "code",
   "execution_count": 98,
   "metadata": {
    "cell_id": "906e180f23ca4567ab7107b47bed472c",
    "deepnote_cell_type": "code",
    "deepnote_to_be_reexecuted": false,
    "execution_millis": 504,
    "execution_start": 1667550607676,
    "source_hash": "dae8bbf",
    "tags": []
   },
   "outputs": [],
   "source": [
    "import astropy.units as u\n",
    "\n",
    "@u.quantity_input(myangle=u.arcsec)\n",
    "def myfunction(myangle):\n",
    "    return myangle ** 2\n",
    "\n",
    "@u.quantity_input\n",
    "def myfunction(myangle: u.arcsec):\n",
    "    return myangle ** 2\n",
    "\n",
    "@u.quantity_input\n",
    "def myfunction(myangle: u.arcsec) -> u.deg ** 2:\n",
    "    return myangle ** 2"
   ]
  },
  {
   "cell_type": "code",
   "execution_count": null,
   "metadata": {
    "cell_id": "9370c118e3284a92a61e993efce5b772",
    "deepnote_cell_type": "code",
    "deepnote_to_be_reexecuted": false,
    "execution_millis": 0,
    "execution_start": 1667550613859,
    "source_hash": "91dc9e47",
    "tags": []
   },
   "outputs": [],
   "source": [
    "# Test here"
   ]
  },
  {
   "cell_type": "markdown",
   "metadata": {
    "cell_id": "5011eb9ed5a74fc88a0f61e2da3363d7",
    "deepnote_cell_type": "markdown",
    "tags": []
   },
   "source": [
    "## Stacking decorators"
   ]
  },
  {
   "cell_type": "code",
   "execution_count": null,
   "metadata": {
    "cell_id": "72954530ac2a49b699680546472b872e",
    "deepnote_cell_type": "code",
    "deepnote_to_be_reexecuted": false,
    "execution_millis": 2,
    "execution_start": 1667550639570,
    "source_hash": "62f8576a",
    "tags": []
   },
   "outputs": [],
   "source": [
    "@timeit\n",
    "@lru_cache\n",
    "def fibonacci(n):\n",
    "    \"Return the nth fibonacci number.\"\n",
    "    if n in (0, 1):\n",
    "        return n\n",
    "    return fibonacci(n-1) + fibonacci(n-2)"
   ]
  },
  {
   "cell_type": "code",
   "execution_count": null,
   "metadata": {
    "cell_id": "4416f7c14a9946fc80dd4a469fb1e923",
    "deepnote_cell_type": "code",
    "deepnote_to_be_reexecuted": false,
    "execution_millis": 2,
    "execution_start": 1667550645197,
    "source_hash": "988b9ba3",
    "tags": []
   },
   "outputs": [],
   "source": [
    "#Test here"
   ]
  },
  {
   "cell_type": "code",
   "execution_count": null,
   "metadata": {
    "cell_id": "02d475027b70480bb693909796e7094f",
    "deepnote_cell_type": "code",
    "tags": []
   },
   "outputs": [],
   "source": [
    "@lru_cache\n",
    "@timeit\n",
    "def fibonacci(n):\n",
    "    \"Return the nth fibonacci number.\"\n",
    "    if n in (0, 1):\n",
    "        return n\n",
    "    return fibonacci(n-1) + fibonacci(n-2)"
   ]
  },
  {
   "cell_type": "code",
   "execution_count": null,
   "metadata": {
    "cell_id": "9af321c34cd7405ea1ef765eda18a639",
    "deepnote_cell_type": "code",
    "tags": []
   },
   "outputs": [],
   "source": [
    "#test here"
   ]
  },
  {
   "cell_type": "markdown",
   "metadata": {
    "cell_id": "877abb086cae4572a994533051c5cc6d",
    "deepnote_cell_type": "markdown",
    "tags": []
   },
   "source": [
    "⚠️ Ordering matters!"
   ]
  },
  {
   "cell_type": "markdown",
   "metadata": {
    "cell_id": "3581251414994403bef5032bcc53d4b6",
    "deepnote_cell_type": "markdown",
    "tags": []
   },
   "source": [
    "# Context managers\n",
    "\n",
    "objects that defines the runtime context\n",
    "\n",
    "## An example: open, process, and close a file/buffer"
   ]
  },
  {
   "cell_type": "code",
   "execution_count": null,
   "metadata": {
    "cell_id": "38e555c577414d2b98b61d64a6d8f711",
    "deepnote_cell_type": "code",
    "deepnote_to_be_reexecuted": false,
    "execution_millis": 731,
    "execution_start": 1667550766602,
    "source_hash": "a66aa12e",
    "tags": []
   },
   "outputs": [],
   "source": [
    "%%file foo.txt\n",
    "Lorem ipsum dolor sit amet, ea feugiat maiorum evertitur his. Rebum molestie scriptorem ad eam, duo posse nostro scaevola te. Vix dolorum iudicabit ad. Verear utamur vulputate eum id, ius ad ocurreret euripidis, eu qui dicant tritani fierent. Eam in latine voluptaria, erant audiam tacimates ea nec, iisque eripuit vim at.\n",
    "\n",
    "An pri illum prodesset, sit no vocent imperdiet conclusionemque. Et has erat mediocritatem conclusionemque. Vel sint ferri sapientem ne. Quaeque scriptorem ius in, soleat adipiscing intellegam in duo, pro inani doctus facilis cu.\n",
    "\n",
    "Pri ut mentitum necessitatibus, nulla labores perfecto sea te. At atqui aliquam his, est te meis percipit adipisci, atqui ocurreret ut pro. Ei pri vero explicari dissentias, vitae epicurei quaerendum nam ad, ut nam autem tation patrioque. Nibh eligendi maluisset eos ut, usu et utinam vidisse percipitur.\n",
    "\n",
    "At wisi probo vel, et nostrum epicurei definiebas pri, an homero neglegentur reprehendunt has. Eu saepe oblique his, et vidisse detraxit mei. Unum vituperata duo ei, rebum deseruisse dissentiunt eum ne. Mel cu vitae salutatus tincidunt. Dictas utamur quo in, ei has percipit consequat.\n",
    "\n",
    "Eu populo mentitum vis, esse alienum offendit ex nam, sea an ullum quando moderatius. Vis suscipit pertinacia te, ea ius nominavi iudicabit, cu congue veniam pri. Sea quot prompta reformidans at, dicat tractatos pri ne. Sed modo audire ne, dolor prompta eum cu. An duo etiam elaboraret interesset, te mea zril recteque. Equidem maiorum elaboraret id vis."
   ]
  },
  {
   "cell_type": "code",
   "execution_count": null,
   "metadata": {
    "cell_id": "c095ecfa76204f19b76f9c7eed2e2a1e",
    "deepnote_cell_type": "code",
    "deepnote_to_be_reexecuted": false,
    "execution_millis": 6,
    "execution_start": 1667550787423,
    "source_hash": "3803b197",
    "tags": []
   },
   "outputs": [],
   "source": [
    "fp = open(\"foo.txt\", 'r')\n",
    "for line in fp:\n",
    "    # do something\n",
    "    print(line[:10], '...')\n",
    "fp.close()      "
   ]
  },
  {
   "cell_type": "markdown",
   "metadata": {
    "cell_id": "9e0a5f2636ce43289c9e088194774778",
    "deepnote_cell_type": "markdown",
    "tags": []
   },
   "source": [
    "After many lines, I commonly forget to clean up and close the file. __But__ with a __context manager__, I can __automatically close the file__"
   ]
  },
  {
   "cell_type": "code",
   "execution_count": null,
   "metadata": {
    "cell_id": "701e367fb58d4b3a880dfa3216758c50",
    "deepnote_cell_type": "code",
    "deepnote_to_be_reexecuted": false,
    "execution_millis": 15,
    "execution_start": 1667550853135,
    "source_hash": "49521994",
    "tags": []
   },
   "outputs": [],
   "source": [
    "with open('foo.txt', 'r') as fp:\n",
    "    for line in fp:\n",
    "        # do something\n",
    "        print(line[:10], '...')\n",
    "\n",
    "fp.seek(0)"
   ]
  },
  {
   "cell_type": "markdown",
   "metadata": {
    "cell_id": "5520cfeeeca44e1180334c0b9734edd4",
    "deepnote_cell_type": "markdown",
    "tags": []
   },
   "source": [
    "## What are context managers?\n",
    "\n",
    "Context managers are normally invoked using the [with](https://docs.python.org/3.9/reference/compound_stmts.html#with)  statement\n",
    "\n",
    "A context manager handles the __entry__ into, and the __exit__ from,  a desired runtime context for the execution of the block of code."
   ]
  },
  {
   "cell_type": "code",
   "execution_count": null,
   "metadata": {
    "cell_id": "756fb967ed0f429690ede04cdde6440c",
    "deepnote_cell_type": "code",
    "deepnote_to_be_reexecuted": false,
    "execution_millis": 1,
    "execution_start": 1667550888469,
    "source_hash": "a0286fab",
    "tags": []
   },
   "outputs": [],
   "source": [
    "class MyContext:\n",
    "    def __enter__(self):\n",
    "        \"\"\"Enter the runtime context related to this object.\n",
    "        Must return the target(s) specified in the `as` clause of the statement, if any.\"\"\"\n",
    "        ...\n",
    "        return self   # typically\n",
    "    def __exit__(self, exc_type, exc_value, traceback):\n",
    "        \"\"\"Exit the runtime context related to this object.\n",
    "        The parameters describe the exception that caused the context to be exited (or None)\"\"\"\n",
    "        pass"
   ]
  },
  {
   "cell_type": "markdown",
   "metadata": {
    "cell_id": "d769d88af8b6487888315cda34080e2d",
    "deepnote_cell_type": "markdown",
    "tags": []
   },
   "source": [
    "## Common Usage\n",
    "\n",
    "- close the file/socket/buffer handle (even if you crash)\n",
    "- commit transactions (even if you crash)\n",
    "- release a lock\n",
    "- restore initial values (stateful APIs)\n",
    "- user interaction (e.g. logger, progress, profiling)"
   ]
  },
  {
   "cell_type": "code",
   "execution_count": null,
   "metadata": {
    "cell_id": "3b37017893194826948792427dda5edf",
    "deepnote_cell_type": "code",
    "deepnote_to_be_reexecuted": false,
    "execution_millis": 3,
    "execution_start": 1667550929085,
    "source_hash": "b50a0dab",
    "tags": []
   },
   "outputs": [],
   "source": [
    "from contextlib import suppress\n",
    "import os\n",
    "\n",
    "with suppress(FileNotFoundError):\n",
    "    os.remove('foo.txt')"
   ]
  },
  {
   "cell_type": "markdown",
   "metadata": {
    "cell_id": "3a20bfc7c4f4424a9b11e70f6c031b61",
    "deepnote_cell_type": "markdown",
    "tags": []
   },
   "source": [
    "## Excercise: write a `timeit` context manager"
   ]
  },
  {
   "cell_type": "code",
   "execution_count": null,
   "metadata": {
    "cell_id": "6dbd258624f7446bbfb7cea140e9c03c",
    "deepnote_cell_type": "code",
    "tags": []
   },
   "outputs": [],
   "source": [
    "# your code here"
   ]
  },
  {
   "cell_type": "code",
   "execution_count": null,
   "metadata": {
    "cell_id": "3e199e8ab50b435ea6ba21fb4fc0f313",
    "deepnote_cell_type": "code",
    "tags": []
   },
   "outputs": [],
   "source": [
    "def fibonacci(n):\n",
    "    \"Return the nth fibonacci number.\"\n",
    "    if n in (0, 1):\n",
    "        return n\n",
    "    return fibonacci(n-1) + fibonacci(n-2)\n",
    "\n",
    "with timeit(\"Fibonacci\"):\n",
    "    fibonacci(40)\n",
    "\n",
    "# stdout/stderr something like\n",
    "# \"'Fibonacci' execution time: 32.6s"
   ]
  },
  {
   "cell_type": "markdown",
   "metadata": {
    "cell_id": "f30b79ffe6b947e29554dcd50fab6b2c",
    "deepnote_cell_type": "markdown",
    "tags": []
   },
   "source": [
    "What about caching the `fibonacci` function?\n",
    "\n",
    "💡 you can reuse the decorators from before."
   ]
  },
  {
   "cell_type": "markdown",
   "metadata": {
    "cell_id": "a9456d3bcaa7474fafa2652aee5f0d36",
    "deepnote_cell_type": "markdown",
    "tags": []
   },
   "source": [
    "---\n",
    "\n",
    "# That's all for today!"
   ]
  }
 ],
 "metadata": {
  "deepnote": {},
  "deepnote_execution_queue": [],
  "deepnote_full_width": true,
  "deepnote_notebook_id": "4f4ff63eafc64d0db7222ce494f44487",
  "kernelspec": {
   "display_name": "Python 3 (ipykernel)",
   "language": "python",
   "name": "python3"
  },
  "language_info": {
   "codemirror_mode": {
    "name": "ipython",
    "version": 3
   },
   "file_extension": ".py",
   "mimetype": "text/x-python",
   "name": "python",
   "nbconvert_exporter": "python",
   "pygments_lexer": "ipython3",
   "version": "3.9.13"
  }
 },
 "nbformat": 4,
 "nbformat_minor": 1
}
